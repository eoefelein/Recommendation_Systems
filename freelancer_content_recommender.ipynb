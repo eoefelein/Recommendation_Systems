{
 "cells": [
  {
   "cell_type": "code",
   "execution_count": 1,
   "id": "24c9ea6a",
   "metadata": {},
   "outputs": [
    {
     "data": {
      "application/javascript": [
       "\n",
       "            setTimeout(function() {\n",
       "                var nbb_cell_id = 1;\n",
       "                var nbb_unformatted_code = \"%reload_ext nb_black\";\n",
       "                var nbb_formatted_code = \"%reload_ext nb_black\";\n",
       "                var nbb_cells = Jupyter.notebook.get_cells();\n",
       "                for (var i = 0; i < nbb_cells.length; ++i) {\n",
       "                    if (nbb_cells[i].input_prompt_number == nbb_cell_id) {\n",
       "                        if (nbb_cells[i].get_text() == nbb_unformatted_code) {\n",
       "                             nbb_cells[i].set_text(nbb_formatted_code);\n",
       "                        }\n",
       "                        break;\n",
       "                    }\n",
       "                }\n",
       "            }, 500);\n",
       "            "
      ],
      "text/plain": [
       "<IPython.core.display.Javascript object>"
      ]
     },
     "metadata": {},
     "output_type": "display_data"
    }
   ],
   "source": [
    "%reload_ext nb_black"
   ]
  },
  {
   "cell_type": "markdown",
   "id": "9599e252",
   "metadata": {},
   "source": [
    "# Demonstration of: \n",
    "## 1) a simple Recommendation System using the average_project_value rating of each developer, \n",
    "## and\n",
    "## 2) a content-based Recommender, incorporating both the description and skills of a developer"
   ]
  },
  {
   "cell_type": "code",
   "execution_count": 2,
   "id": "045af6d8",
   "metadata": {},
   "outputs": [
    {
     "data": {
      "application/javascript": [
       "\n",
       "            setTimeout(function() {\n",
       "                var nbb_cell_id = 2;\n",
       "                var nbb_unformatted_code = \"import pandas as pd\\nimport numpy as np\\nfrom numpy import nonzero, count_nonzero\\n\\nfrom sklearn.metrics.pairwise import linear_kernel\\nfrom sklearn.metrics.pairwise import cosine_similarity\\nfrom sklearn.feature_extraction.text import TfidfVectorizer\\nfrom sklearn.feature_extraction.text import CountVectorizer\\n\\nfrom faker import Faker\";\n",
       "                var nbb_formatted_code = \"import pandas as pd\\nimport numpy as np\\nfrom numpy import nonzero, count_nonzero\\n\\nfrom sklearn.metrics.pairwise import linear_kernel\\nfrom sklearn.metrics.pairwise import cosine_similarity\\nfrom sklearn.feature_extraction.text import TfidfVectorizer\\nfrom sklearn.feature_extraction.text import CountVectorizer\\n\\nfrom faker import Faker\";\n",
       "                var nbb_cells = Jupyter.notebook.get_cells();\n",
       "                for (var i = 0; i < nbb_cells.length; ++i) {\n",
       "                    if (nbb_cells[i].input_prompt_number == nbb_cell_id) {\n",
       "                        if (nbb_cells[i].get_text() == nbb_unformatted_code) {\n",
       "                             nbb_cells[i].set_text(nbb_formatted_code);\n",
       "                        }\n",
       "                        break;\n",
       "                    }\n",
       "                }\n",
       "            }, 500);\n",
       "            "
      ],
      "text/plain": [
       "<IPython.core.display.Javascript object>"
      ]
     },
     "metadata": {},
     "output_type": "display_data"
    }
   ],
   "source": [
    "import pandas as pd\n",
    "import numpy as np\n",
    "from numpy import nonzero, count_nonzero\n",
    "\n",
    "from sklearn.metrics.pairwise import linear_kernel\n",
    "from sklearn.metrics.pairwise import cosine_similarity\n",
    "from sklearn.feature_extraction.text import TfidfVectorizer\n",
    "from sklearn.feature_extraction.text import CountVectorizer\n",
    "\n",
    "from faker import Faker"
   ]
  },
  {
   "cell_type": "code",
   "execution_count": 3,
   "id": "d894fa85",
   "metadata": {
    "scrolled": true
   },
   "outputs": [
    {
     "data": {
      "application/javascript": [
       "\n",
       "            setTimeout(function() {\n",
       "                var nbb_cell_id = 3;\n",
       "                var nbb_unformatted_code = \"df = pd.read_csv(\\\"data/freelancer_ml_clean.csv\\\").drop([\\\"Unnamed: 0\\\"], axis=1)\";\n",
       "                var nbb_formatted_code = \"df = pd.read_csv(\\\"data/freelancer_ml_clean.csv\\\").drop([\\\"Unnamed: 0\\\"], axis=1)\";\n",
       "                var nbb_cells = Jupyter.notebook.get_cells();\n",
       "                for (var i = 0; i < nbb_cells.length; ++i) {\n",
       "                    if (nbb_cells[i].input_prompt_number == nbb_cell_id) {\n",
       "                        if (nbb_cells[i].get_text() == nbb_unformatted_code) {\n",
       "                             nbb_cells[i].set_text(nbb_formatted_code);\n",
       "                        }\n",
       "                        break;\n",
       "                    }\n",
       "                }\n",
       "            }, 500);\n",
       "            "
      ],
      "text/plain": [
       "<IPython.core.display.Javascript object>"
      ]
     },
     "metadata": {},
     "output_type": "display_data"
    }
   ],
   "source": [
    "df = pd.read_csv(\"data/freelancer_ml_clean.csv\").drop([\"Unnamed: 0\"], axis=1)"
   ]
  },
  {
   "cell_type": "code",
   "execution_count": 4,
   "id": "d12b49c7",
   "metadata": {
    "scrolled": true
   },
   "outputs": [
    {
     "data": {
      "application/javascript": [
       "\n",
       "            setTimeout(function() {\n",
       "                var nbb_cell_id = 4;\n",
       "                var nbb_unformatted_code = \"df = df.drop_duplicates(subset=\\\"name\\\")\";\n",
       "                var nbb_formatted_code = \"df = df.drop_duplicates(subset=\\\"name\\\")\";\n",
       "                var nbb_cells = Jupyter.notebook.get_cells();\n",
       "                for (var i = 0; i < nbb_cells.length; ++i) {\n",
       "                    if (nbb_cells[i].input_prompt_number == nbb_cell_id) {\n",
       "                        if (nbb_cells[i].get_text() == nbb_unformatted_code) {\n",
       "                             nbb_cells[i].set_text(nbb_formatted_code);\n",
       "                        }\n",
       "                        break;\n",
       "                    }\n",
       "                }\n",
       "            }, 500);\n",
       "            "
      ],
      "text/plain": [
       "<IPython.core.display.Javascript object>"
      ]
     },
     "metadata": {},
     "output_type": "display_data"
    }
   ],
   "source": [
    "df = df.drop_duplicates(subset=\"name\")"
   ]
  },
  {
   "cell_type": "code",
   "execution_count": 5,
   "id": "bce52783",
   "metadata": {},
   "outputs": [
    {
     "data": {
      "application/javascript": [
       "\n",
       "            setTimeout(function() {\n",
       "                var nbb_cell_id = 5;\n",
       "                var nbb_unformatted_code = \"# rename poorly named column to avg_project_value\\ndf = df.rename({\\\"avg_review_clean_project_values\\\": \\\"avg_project_value\\\"}, axis=1)\";\n",
       "                var nbb_formatted_code = \"# rename poorly named column to avg_project_value\\ndf = df.rename({\\\"avg_review_clean_project_values\\\": \\\"avg_project_value\\\"}, axis=1)\";\n",
       "                var nbb_cells = Jupyter.notebook.get_cells();\n",
       "                for (var i = 0; i < nbb_cells.length; ++i) {\n",
       "                    if (nbb_cells[i].input_prompt_number == nbb_cell_id) {\n",
       "                        if (nbb_cells[i].get_text() == nbb_unformatted_code) {\n",
       "                             nbb_cells[i].set_text(nbb_formatted_code);\n",
       "                        }\n",
       "                        break;\n",
       "                    }\n",
       "                }\n",
       "            }, 500);\n",
       "            "
      ],
      "text/plain": [
       "<IPython.core.display.Javascript object>"
      ]
     },
     "metadata": {},
     "output_type": "display_data"
    }
   ],
   "source": [
    "# rename poorly named column to avg_project_value\n",
    "df = df.rename({\"avg_review_clean_project_values\": \"avg_project_value\"}, axis=1)"
   ]
  },
  {
   "cell_type": "markdown",
   "id": "0cb02614",
   "metadata": {},
   "source": [
    "# SIMPLE Recommender using avg_project_value to estimate a developer's value"
   ]
  },
  {
   "cell_type": "code",
   "execution_count": 6,
   "id": "17d70c92",
   "metadata": {},
   "outputs": [
    {
     "data": {
      "application/javascript": [
       "\n",
       "            setTimeout(function() {\n",
       "                var nbb_cell_id = 6;\n",
       "                var nbb_unformatted_code = \"df = df.sort_values(by=[\\\"avg_project_value\\\"], ascending=False)\";\n",
       "                var nbb_formatted_code = \"df = df.sort_values(by=[\\\"avg_project_value\\\"], ascending=False)\";\n",
       "                var nbb_cells = Jupyter.notebook.get_cells();\n",
       "                for (var i = 0; i < nbb_cells.length; ++i) {\n",
       "                    if (nbb_cells[i].input_prompt_number == nbb_cell_id) {\n",
       "                        if (nbb_cells[i].get_text() == nbb_unformatted_code) {\n",
       "                             nbb_cells[i].set_text(nbb_formatted_code);\n",
       "                        }\n",
       "                        break;\n",
       "                    }\n",
       "                }\n",
       "            }, 500);\n",
       "            "
      ],
      "text/plain": [
       "<IPython.core.display.Javascript object>"
      ]
     },
     "metadata": {},
     "output_type": "display_data"
    }
   ],
   "source": [
    "df = df.sort_values(by=[\"avg_project_value\"], ascending=False)"
   ]
  },
  {
   "cell_type": "code",
   "execution_count": 7,
   "id": "f26f7549",
   "metadata": {},
   "outputs": [
    {
     "data": {
      "text/plain": [
       "<AxesSubplot:>"
      ]
     },
     "execution_count": 7,
     "metadata": {},
     "output_type": "execute_result"
    },
    {
     "data": {
      "image/png": "[encoded data removed]",
      "text/plain": [
       "<Figure size 432x288 with 1 Axes>"
      ]
     },
     "metadata": {
      "needs_background": "light"
     },
     "output_type": "display_data"
    },
    {
     "data": {
      "application/javascript": [
       "\n",
       "            setTimeout(function() {\n",
       "                var nbb_cell_id = 7;\n",
       "                var nbb_unformatted_code = \"df[\\\"avg_project_value\\\"].plot(kind=\\\"box\\\")\";\n",
       "                var nbb_formatted_code = \"df[\\\"avg_project_value\\\"].plot(kind=\\\"box\\\")\";\n",
       "                var nbb_cells = Jupyter.notebook.get_cells();\n",
       "                for (var i = 0; i < nbb_cells.length; ++i) {\n",
       "                    if (nbb_cells[i].input_prompt_number == nbb_cell_id) {\n",
       "                        if (nbb_cells[i].get_text() == nbb_unformatted_code) {\n",
       "                             nbb_cells[i].set_text(nbb_formatted_code);\n",
       "                        }\n",
       "                        break;\n",
       "                    }\n",
       "                }\n",
       "            }, 500);\n",
       "            "
      ],
      "text/plain": [
       "<IPython.core.display.Javascript object>"
      ]
     },
     "metadata": {},
     "output_type": "display_data"
    }
   ],
   "source": [
    "df[\"avg_project_value\"].plot(kind=\"box\")"
   ]
  },
  {
   "cell_type": "markdown",
   "id": "450ed464",
   "metadata": {},
   "source": [
    "# Recommendations based only on avg_project value"
   ]
  },
  {
   "cell_type": "code",
   "execution_count": 8,
   "id": "c0f49946",
   "metadata": {},
   "outputs": [
    {
     "data": {
      "text/html": [
       "<div>\n",
       "<style scoped>\n",
       "    .dataframe tbody tr th:only-of-type {\n",
       "        vertical-align: middle;\n",
       "    }\n",
       "\n",
       "    .dataframe tbody tr th {\n",
       "        vertical-align: top;\n",
       "    }\n",
       "\n",
       "    .dataframe thead th {\n",
       "        text-align: right;\n",
       "    }\n",
       "</style>\n",
       "<table border=\"1\" class=\"dataframe\">\n",
       "  <thead>\n",
       "    <tr style=\"text-align: right;\">\n",
       "      <th></th>\n",
       "      <th>name</th>\n",
       "      <th>avg_project_value</th>\n",
       "    </tr>\n",
       "  </thead>\n",
       "  <tbody>\n",
       "    <tr>\n",
       "      <th>144</th>\n",
       "      <td>Stephen O.</td>\n",
       "      <td>972.850000</td>\n",
       "    </tr>\n",
       "    <tr>\n",
       "      <th>88</th>\n",
       "      <td>Michael W.</td>\n",
       "      <td>846.000000</td>\n",
       "    </tr>\n",
       "    <tr>\n",
       "      <th>1791</th>\n",
       "      <td>Alejandro</td>\n",
       "      <td>744.200000</td>\n",
       "    </tr>\n",
       "    <tr>\n",
       "      <th>104</th>\n",
       "      <td>Martin T.</td>\n",
       "      <td>743.386667</td>\n",
       "    </tr>\n",
       "    <tr>\n",
       "      <th>275</th>\n",
       "      <td>Bruno N.</td>\n",
       "      <td>723.000000</td>\n",
       "    </tr>\n",
       "    <tr>\n",
       "      <th>...</th>\n",
       "      <td>...</td>\n",
       "      <td>...</td>\n",
       "    </tr>\n",
       "    <tr>\n",
       "      <th>905</th>\n",
       "      <td>Arvin M.</td>\n",
       "      <td>0.105000</td>\n",
       "    </tr>\n",
       "    <tr>\n",
       "      <th>1073</th>\n",
       "      <td>Ashar M.</td>\n",
       "      <td>0.050000</td>\n",
       "    </tr>\n",
       "    <tr>\n",
       "      <th>1148</th>\n",
       "      <td>Harshid V.</td>\n",
       "      <td>0.035000</td>\n",
       "    </tr>\n",
       "    <tr>\n",
       "      <th>1045</th>\n",
       "      <td>Tanvi B.</td>\n",
       "      <td>0.020000</td>\n",
       "    </tr>\n",
       "    <tr>\n",
       "      <th>1234</th>\n",
       "      <td>Aseel H.</td>\n",
       "      <td>0.015000</td>\n",
       "    </tr>\n",
       "  </tbody>\n",
       "</table>\n",
       "<p>1798 rows × 2 columns</p>\n",
       "</div>"
      ],
      "text/plain": [
       "            name  avg_project_value\n",
       "144   Stephen O.         972.850000\n",
       "88    Michael W.         846.000000\n",
       "1791   Alejandro         744.200000\n",
       "104    Martin T.         743.386667\n",
       "275     Bruno N.         723.000000\n",
       "...          ...                ...\n",
       "905     Arvin M.           0.105000\n",
       "1073    Ashar M.           0.050000\n",
       "1148  Harshid V.           0.035000\n",
       "1045    Tanvi B.           0.020000\n",
       "1234    Aseel H.           0.015000\n",
       "\n",
       "[1798 rows x 2 columns]"
      ]
     },
     "execution_count": 8,
     "metadata": {},
     "output_type": "execute_result"
    },
    {
     "data": {
      "application/javascript": [
       "\n",
       "            setTimeout(function() {\n",
       "                var nbb_cell_id = 8;\n",
       "                var nbb_unformatted_code = \"# display reccomendations for developers with avg_project_value > 0\\ndf[[\\\"name\\\", \\\"avg_project_value\\\"]][df[\\\"avg_project_value\\\"] > 0]\";\n",
       "                var nbb_formatted_code = \"# display reccomendations for developers with avg_project_value > 0\\ndf[[\\\"name\\\", \\\"avg_project_value\\\"]][df[\\\"avg_project_value\\\"] > 0]\";\n",
       "                var nbb_cells = Jupyter.notebook.get_cells();\n",
       "                for (var i = 0; i < nbb_cells.length; ++i) {\n",
       "                    if (nbb_cells[i].input_prompt_number == nbb_cell_id) {\n",
       "                        if (nbb_cells[i].get_text() == nbb_unformatted_code) {\n",
       "                             nbb_cells[i].set_text(nbb_formatted_code);\n",
       "                        }\n",
       "                        break;\n",
       "                    }\n",
       "                }\n",
       "            }, 500);\n",
       "            "
      ],
      "text/plain": [
       "<IPython.core.display.Javascript object>"
      ]
     },
     "metadata": {},
     "output_type": "display_data"
    }
   ],
   "source": [
    "# display reccomendations for developers with avg_project_value > 0\n",
    "df[[\"name\", \"avg_project_value\"]][df[\"avg_project_value\"] > 0]"
   ]
  },
  {
   "cell_type": "markdown",
   "id": "c9a62b1e",
   "metadata": {},
   "source": [
    "# CONTENT-BASED Recommender using description and skills similarity"
   ]
  },
  {
   "cell_type": "markdown",
   "id": "75cd36f8",
   "metadata": {},
   "source": [
    "### get similarity of descriptions using NLP"
   ]
  },
  {
   "cell_type": "code",
   "execution_count": 9,
   "id": "82645f41",
   "metadata": {
    "scrolled": true
   },
   "outputs": [
    {
     "data": {
      "text/plain": [
       "(2145, 13803)"
      ]
     },
     "execution_count": 9,
     "metadata": {},
     "output_type": "execute_result"
    },
    {
     "data": {
      "application/javascript": [
       "\n",
       "            setTimeout(function() {\n",
       "                var nbb_cell_id = 9;\n",
       "                var nbb_unformatted_code = \"# Define a TF-IDF Vectorizer Object. Remove all english stop words such as 'the', 'a'\\ntfidf = TfidfVectorizer(stop_words=\\\"english\\\")\\n\\n# Replace NaN with an empty string\\ndf[\\\"description\\\"] = df[\\\"description\\\"].fillna(\\\"\\\")\\n\\n# Construct the required TF-IDF matrix by fitting and transforming the data\\ntfidf_matrix = tfidf.fit_transform(df[\\\"description\\\"])\\n\\n# Output the shape of tfidf_matrix\\ntfidf_matrix.shape\";\n",
       "                var nbb_formatted_code = \"# Define a TF-IDF Vectorizer Object. Remove all english stop words such as 'the', 'a'\\ntfidf = TfidfVectorizer(stop_words=\\\"english\\\")\\n\\n# Replace NaN with an empty string\\ndf[\\\"description\\\"] = df[\\\"description\\\"].fillna(\\\"\\\")\\n\\n# Construct the required TF-IDF matrix by fitting and transforming the data\\ntfidf_matrix = tfidf.fit_transform(df[\\\"description\\\"])\\n\\n# Output the shape of tfidf_matrix\\ntfidf_matrix.shape\";\n",
       "                var nbb_cells = Jupyter.notebook.get_cells();\n",
       "                for (var i = 0; i < nbb_cells.length; ++i) {\n",
       "                    if (nbb_cells[i].input_prompt_number == nbb_cell_id) {\n",
       "                        if (nbb_cells[i].get_text() == nbb_unformatted_code) {\n",
       "                             nbb_cells[i].set_text(nbb_formatted_code);\n",
       "                        }\n",
       "                        break;\n",
       "                    }\n",
       "                }\n",
       "            }, 500);\n",
       "            "
      ],
      "text/plain": [
       "<IPython.core.display.Javascript object>"
      ]
     },
     "metadata": {},
     "output_type": "display_data"
    }
   ],
   "source": [
    "# Define a TF-IDF Vectorizer Object. Remove all english stop words such as 'the', 'a'\n",
    "tfidf = TfidfVectorizer(stop_words=\"english\")\n",
    "\n",
    "# Replace NaN with an empty string\n",
    "df[\"description\"] = df[\"description\"].fillna(\"\")\n",
    "\n",
    "# Construct the required TF-IDF matrix by fitting and transforming the data\n",
    "tfidf_matrix = tfidf.fit_transform(df[\"description\"])\n",
    "\n",
    "# Output the shape of tfidf_matrix\n",
    "tfidf_matrix.shape"
   ]
  },
  {
   "cell_type": "markdown",
   "id": "530e3264",
   "metadata": {},
   "source": [
    "The tuple's second element indicates the total vocabulary is 13,803."
   ]
  },
  {
   "cell_type": "markdown",
   "id": "72267da2",
   "metadata": {},
   "source": [
    "#### The cosine similarity is independent of magnitude and is relatively easy and fast to calculate, especially when used in conjunction with TF-IDF scores."
   ]
  },
  {
   "cell_type": "code",
   "execution_count": 10,
   "id": "ac127ca5",
   "metadata": {},
   "outputs": [
    {
     "data": {
      "application/javascript": [
       "\n",
       "            setTimeout(function() {\n",
       "                var nbb_cell_id = 10;\n",
       "                var nbb_unformatted_code = \"# Compute the cosine similarity matrix\\ncosine_sim = linear_kernel(tfidf_matrix, tfidf_matrix)\";\n",
       "                var nbb_formatted_code = \"# Compute the cosine similarity matrix\\ncosine_sim = linear_kernel(tfidf_matrix, tfidf_matrix)\";\n",
       "                var nbb_cells = Jupyter.notebook.get_cells();\n",
       "                for (var i = 0; i < nbb_cells.length; ++i) {\n",
       "                    if (nbb_cells[i].input_prompt_number == nbb_cell_id) {\n",
       "                        if (nbb_cells[i].get_text() == nbb_unformatted_code) {\n",
       "                             nbb_cells[i].set_text(nbb_formatted_code);\n",
       "                        }\n",
       "                        break;\n",
       "                    }\n",
       "                }\n",
       "            }, 500);\n",
       "            "
      ],
      "text/plain": [
       "<IPython.core.display.Javascript object>"
      ]
     },
     "metadata": {},
     "output_type": "display_data"
    }
   ],
   "source": [
    "# Compute the cosine similarity matrix\n",
    "cosine_sim = linear_kernel(tfidf_matrix, tfidf_matrix)"
   ]
  },
  {
   "cell_type": "code",
   "execution_count": 11,
   "id": "9be46ad1",
   "metadata": {},
   "outputs": [
    {
     "data": {
      "text/html": [
       "<div>\n",
       "<style scoped>\n",
       "    .dataframe tbody tr th:only-of-type {\n",
       "        vertical-align: middle;\n",
       "    }\n",
       "\n",
       "    .dataframe tbody tr th {\n",
       "        vertical-align: top;\n",
       "    }\n",
       "\n",
       "    .dataframe thead th {\n",
       "        text-align: right;\n",
       "    }\n",
       "</style>\n",
       "<table border=\"1\" class=\"dataframe\">\n",
       "  <thead>\n",
       "    <tr style=\"text-align: right;\">\n",
       "      <th></th>\n",
       "      <th>0</th>\n",
       "      <th>1</th>\n",
       "      <th>2</th>\n",
       "      <th>3</th>\n",
       "      <th>4</th>\n",
       "      <th>5</th>\n",
       "      <th>6</th>\n",
       "      <th>7</th>\n",
       "      <th>8</th>\n",
       "      <th>9</th>\n",
       "      <th>...</th>\n",
       "      <th>2135</th>\n",
       "      <th>2136</th>\n",
       "      <th>2137</th>\n",
       "      <th>2138</th>\n",
       "      <th>2139</th>\n",
       "      <th>2140</th>\n",
       "      <th>2141</th>\n",
       "      <th>2142</th>\n",
       "      <th>2143</th>\n",
       "      <th>2144</th>\n",
       "    </tr>\n",
       "  </thead>\n",
       "  <tbody>\n",
       "    <tr>\n",
       "      <th>0</th>\n",
       "      <td>1.000000</td>\n",
       "      <td>0.026975</td>\n",
       "      <td>0.085236</td>\n",
       "      <td>0.020380</td>\n",
       "      <td>0.000000</td>\n",
       "      <td>0.121721</td>\n",
       "      <td>0.024591</td>\n",
       "      <td>0.086719</td>\n",
       "      <td>0.051753</td>\n",
       "      <td>0.104743</td>\n",
       "      <td>...</td>\n",
       "      <td>0.057624</td>\n",
       "      <td>0.020873</td>\n",
       "      <td>0.007211</td>\n",
       "      <td>0.177102</td>\n",
       "      <td>0.012941</td>\n",
       "      <td>0.034630</td>\n",
       "      <td>0.000000</td>\n",
       "      <td>0.000000</td>\n",
       "      <td>0.007035</td>\n",
       "      <td>0.119717</td>\n",
       "    </tr>\n",
       "    <tr>\n",
       "      <th>1</th>\n",
       "      <td>0.026975</td>\n",
       "      <td>1.000000</td>\n",
       "      <td>0.022678</td>\n",
       "      <td>0.048380</td>\n",
       "      <td>0.001292</td>\n",
       "      <td>0.010185</td>\n",
       "      <td>0.089876</td>\n",
       "      <td>0.015813</td>\n",
       "      <td>0.006690</td>\n",
       "      <td>0.050419</td>\n",
       "      <td>...</td>\n",
       "      <td>0.017041</td>\n",
       "      <td>0.032553</td>\n",
       "      <td>0.031946</td>\n",
       "      <td>0.009587</td>\n",
       "      <td>0.025248</td>\n",
       "      <td>0.000000</td>\n",
       "      <td>0.000000</td>\n",
       "      <td>0.000000</td>\n",
       "      <td>0.066849</td>\n",
       "      <td>0.021425</td>\n",
       "    </tr>\n",
       "    <tr>\n",
       "      <th>2</th>\n",
       "      <td>0.085236</td>\n",
       "      <td>0.022678</td>\n",
       "      <td>1.000000</td>\n",
       "      <td>0.017430</td>\n",
       "      <td>0.002401</td>\n",
       "      <td>0.034972</td>\n",
       "      <td>0.019155</td>\n",
       "      <td>0.060865</td>\n",
       "      <td>0.003296</td>\n",
       "      <td>0.101315</td>\n",
       "      <td>...</td>\n",
       "      <td>0.035403</td>\n",
       "      <td>0.028367</td>\n",
       "      <td>0.016366</td>\n",
       "      <td>0.063456</td>\n",
       "      <td>0.005331</td>\n",
       "      <td>0.014267</td>\n",
       "      <td>0.000000</td>\n",
       "      <td>0.000000</td>\n",
       "      <td>0.014503</td>\n",
       "      <td>0.126912</td>\n",
       "    </tr>\n",
       "    <tr>\n",
       "      <th>3</th>\n",
       "      <td>0.020380</td>\n",
       "      <td>0.048380</td>\n",
       "      <td>0.017430</td>\n",
       "      <td>1.000000</td>\n",
       "      <td>0.044808</td>\n",
       "      <td>0.007017</td>\n",
       "      <td>0.038314</td>\n",
       "      <td>0.004462</td>\n",
       "      <td>0.002633</td>\n",
       "      <td>0.049401</td>\n",
       "      <td>...</td>\n",
       "      <td>0.012652</td>\n",
       "      <td>0.044431</td>\n",
       "      <td>0.019312</td>\n",
       "      <td>0.000000</td>\n",
       "      <td>0.008838</td>\n",
       "      <td>0.000000</td>\n",
       "      <td>0.028801</td>\n",
       "      <td>0.000000</td>\n",
       "      <td>0.013738</td>\n",
       "      <td>0.014462</td>\n",
       "    </tr>\n",
       "    <tr>\n",
       "      <th>4</th>\n",
       "      <td>0.000000</td>\n",
       "      <td>0.001292</td>\n",
       "      <td>0.002401</td>\n",
       "      <td>0.044808</td>\n",
       "      <td>1.000000</td>\n",
       "      <td>0.015534</td>\n",
       "      <td>0.001494</td>\n",
       "      <td>0.016747</td>\n",
       "      <td>0.049788</td>\n",
       "      <td>0.005273</td>\n",
       "      <td>...</td>\n",
       "      <td>0.030713</td>\n",
       "      <td>0.005698</td>\n",
       "      <td>0.008803</td>\n",
       "      <td>0.000000</td>\n",
       "      <td>0.045729</td>\n",
       "      <td>0.000000</td>\n",
       "      <td>0.056647</td>\n",
       "      <td>0.000000</td>\n",
       "      <td>0.042637</td>\n",
       "      <td>0.015108</td>\n",
       "    </tr>\n",
       "    <tr>\n",
       "      <th>...</th>\n",
       "      <td>...</td>\n",
       "      <td>...</td>\n",
       "      <td>...</td>\n",
       "      <td>...</td>\n",
       "      <td>...</td>\n",
       "      <td>...</td>\n",
       "      <td>...</td>\n",
       "      <td>...</td>\n",
       "      <td>...</td>\n",
       "      <td>...</td>\n",
       "      <td>...</td>\n",
       "      <td>...</td>\n",
       "      <td>...</td>\n",
       "      <td>...</td>\n",
       "      <td>...</td>\n",
       "      <td>...</td>\n",
       "      <td>...</td>\n",
       "      <td>...</td>\n",
       "      <td>...</td>\n",
       "      <td>...</td>\n",
       "      <td>...</td>\n",
       "    </tr>\n",
       "    <tr>\n",
       "      <th>2140</th>\n",
       "      <td>0.034630</td>\n",
       "      <td>0.000000</td>\n",
       "      <td>0.014267</td>\n",
       "      <td>0.000000</td>\n",
       "      <td>0.000000</td>\n",
       "      <td>0.014993</td>\n",
       "      <td>0.038580</td>\n",
       "      <td>0.008223</td>\n",
       "      <td>0.000000</td>\n",
       "      <td>0.014708</td>\n",
       "      <td>...</td>\n",
       "      <td>0.000000</td>\n",
       "      <td>0.000000</td>\n",
       "      <td>0.018737</td>\n",
       "      <td>0.027528</td>\n",
       "      <td>0.000000</td>\n",
       "      <td>1.000000</td>\n",
       "      <td>0.000000</td>\n",
       "      <td>0.000000</td>\n",
       "      <td>0.000000</td>\n",
       "      <td>0.038642</td>\n",
       "    </tr>\n",
       "    <tr>\n",
       "      <th>2141</th>\n",
       "      <td>0.000000</td>\n",
       "      <td>0.000000</td>\n",
       "      <td>0.000000</td>\n",
       "      <td>0.028801</td>\n",
       "      <td>0.056647</td>\n",
       "      <td>0.005871</td>\n",
       "      <td>0.002611</td>\n",
       "      <td>0.000000</td>\n",
       "      <td>0.025952</td>\n",
       "      <td>0.008534</td>\n",
       "      <td>...</td>\n",
       "      <td>0.010820</td>\n",
       "      <td>0.143849</td>\n",
       "      <td>0.018179</td>\n",
       "      <td>0.000000</td>\n",
       "      <td>0.000000</td>\n",
       "      <td>0.000000</td>\n",
       "      <td>1.000000</td>\n",
       "      <td>0.000000</td>\n",
       "      <td>0.049343</td>\n",
       "      <td>0.026855</td>\n",
       "    </tr>\n",
       "    <tr>\n",
       "      <th>2142</th>\n",
       "      <td>0.000000</td>\n",
       "      <td>0.000000</td>\n",
       "      <td>0.000000</td>\n",
       "      <td>0.000000</td>\n",
       "      <td>0.000000</td>\n",
       "      <td>0.000000</td>\n",
       "      <td>0.000000</td>\n",
       "      <td>0.009917</td>\n",
       "      <td>0.025319</td>\n",
       "      <td>0.000000</td>\n",
       "      <td>...</td>\n",
       "      <td>0.020210</td>\n",
       "      <td>0.000000</td>\n",
       "      <td>0.026845</td>\n",
       "      <td>0.000000</td>\n",
       "      <td>0.020833</td>\n",
       "      <td>0.000000</td>\n",
       "      <td>0.000000</td>\n",
       "      <td>1.000000</td>\n",
       "      <td>0.022551</td>\n",
       "      <td>0.000000</td>\n",
       "    </tr>\n",
       "    <tr>\n",
       "      <th>2143</th>\n",
       "      <td>0.007035</td>\n",
       "      <td>0.066849</td>\n",
       "      <td>0.014503</td>\n",
       "      <td>0.013738</td>\n",
       "      <td>0.042637</td>\n",
       "      <td>0.038881</td>\n",
       "      <td>0.043674</td>\n",
       "      <td>0.016944</td>\n",
       "      <td>0.053867</td>\n",
       "      <td>0.029656</td>\n",
       "      <td>...</td>\n",
       "      <td>0.087702</td>\n",
       "      <td>0.029325</td>\n",
       "      <td>0.125438</td>\n",
       "      <td>0.000000</td>\n",
       "      <td>0.083049</td>\n",
       "      <td>0.000000</td>\n",
       "      <td>0.049343</td>\n",
       "      <td>0.022551</td>\n",
       "      <td>1.000000</td>\n",
       "      <td>0.048973</td>\n",
       "    </tr>\n",
       "    <tr>\n",
       "      <th>2144</th>\n",
       "      <td>0.119717</td>\n",
       "      <td>0.021425</td>\n",
       "      <td>0.126912</td>\n",
       "      <td>0.014462</td>\n",
       "      <td>0.015108</td>\n",
       "      <td>0.113576</td>\n",
       "      <td>0.021171</td>\n",
       "      <td>0.125299</td>\n",
       "      <td>0.017272</td>\n",
       "      <td>0.137555</td>\n",
       "      <td>...</td>\n",
       "      <td>0.097073</td>\n",
       "      <td>0.035113</td>\n",
       "      <td>0.073482</td>\n",
       "      <td>0.109494</td>\n",
       "      <td>0.015648</td>\n",
       "      <td>0.038642</td>\n",
       "      <td>0.026855</td>\n",
       "      <td>0.000000</td>\n",
       "      <td>0.048973</td>\n",
       "      <td>1.000000</td>\n",
       "    </tr>\n",
       "  </tbody>\n",
       "</table>\n",
       "<p>2145 rows × 2145 columns</p>\n",
       "</div>"
      ],
      "text/plain": [
       "          0         1         2         3         4         5         6     \\\n",
       "0     1.000000  0.026975  0.085236  0.020380  0.000000  0.121721  0.024591   \n",
       "1     0.026975  1.000000  0.022678  0.048380  0.001292  0.010185  0.089876   \n",
       "2     0.085236  0.022678  1.000000  0.017430  0.002401  0.034972  0.019155   \n",
       "3     0.020380  0.048380  0.017430  1.000000  0.044808  0.007017  0.038314   \n",
       "4     0.000000  0.001292  0.002401  0.044808  1.000000  0.015534  0.001494   \n",
       "...        ...       ...       ...       ...       ...       ...       ...   \n",
       "2140  0.034630  0.000000  0.014267  0.000000  0.000000  0.014993  0.038580   \n",
       "2141  0.000000  0.000000  0.000000  0.028801  0.056647  0.005871  0.002611   \n",
       "2142  0.000000  0.000000  0.000000  0.000000  0.000000  0.000000  0.000000   \n",
       "2143  0.007035  0.066849  0.014503  0.013738  0.042637  0.038881  0.043674   \n",
       "2144  0.119717  0.021425  0.126912  0.014462  0.015108  0.113576  0.021171   \n",
       "\n",
       "          7         8         9     ...      2135      2136      2137  \\\n",
       "0     0.086719  0.051753  0.104743  ...  0.057624  0.020873  0.007211   \n",
       "1     0.015813  0.006690  0.050419  ...  0.017041  0.032553  0.031946   \n",
       "2     0.060865  0.003296  0.101315  ...  0.035403  0.028367  0.016366   \n",
       "3     0.004462  0.002633  0.049401  ...  0.012652  0.044431  0.019312   \n",
       "4     0.016747  0.049788  0.005273  ...  0.030713  0.005698  0.008803   \n",
       "...        ...       ...       ...  ...       ...       ...       ...   \n",
       "2140  0.008223  0.000000  0.014708  ...  0.000000  0.000000  0.018737   \n",
       "2141  0.000000  0.025952  0.008534  ...  0.010820  0.143849  0.018179   \n",
       "2142  0.009917  0.025319  0.000000  ...  0.020210  0.000000  0.026845   \n",
       "2143  0.016944  0.053867  0.029656  ...  0.087702  0.029325  0.125438   \n",
       "2144  0.125299  0.017272  0.137555  ...  0.097073  0.035113  0.073482   \n",
       "\n",
       "          2138      2139      2140      2141      2142      2143      2144  \n",
       "0     0.177102  0.012941  0.034630  0.000000  0.000000  0.007035  0.119717  \n",
       "1     0.009587  0.025248  0.000000  0.000000  0.000000  0.066849  0.021425  \n",
       "2     0.063456  0.005331  0.014267  0.000000  0.000000  0.014503  0.126912  \n",
       "3     0.000000  0.008838  0.000000  0.028801  0.000000  0.013738  0.014462  \n",
       "4     0.000000  0.045729  0.000000  0.056647  0.000000  0.042637  0.015108  \n",
       "...        ...       ...       ...       ...       ...       ...       ...  \n",
       "2140  0.027528  0.000000  1.000000  0.000000  0.000000  0.000000  0.038642  \n",
       "2141  0.000000  0.000000  0.000000  1.000000  0.000000  0.049343  0.026855  \n",
       "2142  0.000000  0.020833  0.000000  0.000000  1.000000  0.022551  0.000000  \n",
       "2143  0.000000  0.083049  0.000000  0.049343  0.022551  1.000000  0.048973  \n",
       "2144  0.109494  0.015648  0.038642  0.026855  0.000000  0.048973  1.000000  \n",
       "\n",
       "[2145 rows x 2145 columns]"
      ]
     },
     "execution_count": 11,
     "metadata": {},
     "output_type": "execute_result"
    },
    {
     "data": {
      "application/javascript": [
       "\n",
       "            setTimeout(function() {\n",
       "                var nbb_cell_id = 11;\n",
       "                var nbb_unformatted_code = \"pd.DataFrame(cosine_sim)  # similarity score between each pair of developers\";\n",
       "                var nbb_formatted_code = \"pd.DataFrame(cosine_sim)  # similarity score between each pair of developers\";\n",
       "                var nbb_cells = Jupyter.notebook.get_cells();\n",
       "                for (var i = 0; i < nbb_cells.length; ++i) {\n",
       "                    if (nbb_cells[i].input_prompt_number == nbb_cell_id) {\n",
       "                        if (nbb_cells[i].get_text() == nbb_unformatted_code) {\n",
       "                             nbb_cells[i].set_text(nbb_formatted_code);\n",
       "                        }\n",
       "                        break;\n",
       "                    }\n",
       "                }\n",
       "            }, 500);\n",
       "            "
      ],
      "text/plain": [
       "<IPython.core.display.Javascript object>"
      ]
     },
     "metadata": {},
     "output_type": "display_data"
    }
   ],
   "source": [
    "pd.DataFrame(cosine_sim)  # similarity score between each pair of developers"
   ]
  },
  {
   "cell_type": "markdown",
   "id": "76f44b5d",
   "metadata": {},
   "source": [
    "### function takes in developer and outputs 10 most similar developers"
   ]
  },
  {
   "cell_type": "code",
   "execution_count": 12,
   "id": "983449a0",
   "metadata": {},
   "outputs": [
    {
     "data": {
      "application/javascript": [
       "\n",
       "            setTimeout(function() {\n",
       "                var nbb_cell_id = 12;\n",
       "                var nbb_unformatted_code = \"# Construct a reverse map of indices and movie titles\\nindices = pd.Series(df.index, index=df[\\\"name\\\"]).drop_duplicates()\";\n",
       "                var nbb_formatted_code = \"# Construct a reverse map of indices and movie titles\\nindices = pd.Series(df.index, index=df[\\\"name\\\"]).drop_duplicates()\";\n",
       "                var nbb_cells = Jupyter.notebook.get_cells();\n",
       "                for (var i = 0; i < nbb_cells.length; ++i) {\n",
       "                    if (nbb_cells[i].input_prompt_number == nbb_cell_id) {\n",
       "                        if (nbb_cells[i].get_text() == nbb_unformatted_code) {\n",
       "                             nbb_cells[i].set_text(nbb_formatted_code);\n",
       "                        }\n",
       "                        break;\n",
       "                    }\n",
       "                }\n",
       "            }, 500);\n",
       "            "
      ],
      "text/plain": [
       "<IPython.core.display.Javascript object>"
      ]
     },
     "metadata": {},
     "output_type": "display_data"
    }
   ],
   "source": [
    "# Construct a reverse map of indices and movie titles\n",
    "indices = pd.Series(df.index, index=df[\"name\"]).drop_duplicates()"
   ]
  },
  {
   "cell_type": "markdown",
   "id": "a96ecaf0",
   "metadata": {},
   "source": [
    "## Recommendation function\n",
    "\n",
    "Get the index of the developer given their name.\n",
    "\n",
    "Get the list of cosine similarity scores for that particular developer with all developers. Convert it into a list of tuples where the first element is its position, and the second is the similarity score.\n",
    "\n",
    "Sort the aforementioned list of tuples based on the similarity scores; i.e., the second element.\n",
    "\n",
    "Get the top 10 elements of this list. Ignore the first element as it refers to self (the developer most similar to a particular developer is the developer itself).\n",
    "\n",
    "Return the titles corresponding to the indices of the top elements."
   ]
  },
  {
   "cell_type": "code",
   "execution_count": 13,
   "id": "132f6e4e",
   "metadata": {},
   "outputs": [
    {
     "data": {
      "application/javascript": [
       "\n",
       "            setTimeout(function() {\n",
       "                var nbb_cell_id = 13;\n",
       "                var nbb_unformatted_code = \"def get_contentbased_recs(name, cosine_sim=cosine_sim):\\n    # Get the index of the movie that matches the title\\n    idx = indices[name]\\n\\n    # Get the pairwsie similarity scores of all movies with that movie\\n    sim_scores = list(enumerate(cosine_sim[idx]))\\n\\n    # Sort the movies based on the similarity scores\\n    sim_scores = sorted(sim_scores, key=lambda x: x[1], reverse=True)\\n\\n    # Get the scores of the 10 most similar movies\\n    sim_scores = sim_scores[1:11]\\n\\n    # Get the movie indices\\n    dev_indices = [i[0] for i in sim_scores]\\n\\n    # Return the top 10 most similar movies\\n    return df[\\\"name\\\"].iloc[dev_indices]\";\n",
       "                var nbb_formatted_code = \"def get_contentbased_recs(name, cosine_sim=cosine_sim):\\n    # Get the index of the movie that matches the title\\n    idx = indices[name]\\n\\n    # Get the pairwsie similarity scores of all movies with that movie\\n    sim_scores = list(enumerate(cosine_sim[idx]))\\n\\n    # Sort the movies based on the similarity scores\\n    sim_scores = sorted(sim_scores, key=lambda x: x[1], reverse=True)\\n\\n    # Get the scores of the 10 most similar movies\\n    sim_scores = sim_scores[1:11]\\n\\n    # Get the movie indices\\n    dev_indices = [i[0] for i in sim_scores]\\n\\n    # Return the top 10 most similar movies\\n    return df[\\\"name\\\"].iloc[dev_indices]\";\n",
       "                var nbb_cells = Jupyter.notebook.get_cells();\n",
       "                for (var i = 0; i < nbb_cells.length; ++i) {\n",
       "                    if (nbb_cells[i].input_prompt_number == nbb_cell_id) {\n",
       "                        if (nbb_cells[i].get_text() == nbb_unformatted_code) {\n",
       "                             nbb_cells[i].set_text(nbb_formatted_code);\n",
       "                        }\n",
       "                        break;\n",
       "                    }\n",
       "                }\n",
       "            }, 500);\n",
       "            "
      ],
      "text/plain": [
       "<IPython.core.display.Javascript object>"
      ]
     },
     "metadata": {},
     "output_type": "display_data"
    }
   ],
   "source": [
    "def get_contentbased_recs(name, cosine_sim=cosine_sim):\n",
    "    # Get the index of the movie that matches the title\n",
    "    idx = indices[name]\n",
    "\n",
    "    # Get the pairwsie similarity scores of all movies with that movie\n",
    "    sim_scores = list(enumerate(cosine_sim[idx]))\n",
    "\n",
    "    # Sort the movies based on the similarity scores\n",
    "    sim_scores = sorted(sim_scores, key=lambda x: x[1], reverse=True)\n",
    "\n",
    "    # Get the scores of the 10 most similar movies\n",
    "    sim_scores = sim_scores[1:11]\n",
    "\n",
    "    # Get the movie indices\n",
    "    dev_indices = [i[0] for i in sim_scores]\n",
    "\n",
    "    # Return the top 10 most similar movies\n",
    "    return df[\"name\"].iloc[dev_indices]"
   ]
  },
  {
   "cell_type": "code",
   "execution_count": 14,
   "id": "efa7e579",
   "metadata": {},
   "outputs": [
    {
     "data": {
      "text/plain": [
       "993            Alejandro U.\n",
       "1184                Siva S.\n",
       "11                 Subir B.\n",
       "953               Silvia L.\n",
       "1389              Salman S.\n",
       "182           Juan Fidel A.\n",
       "1580    Fernando Emanuel G.\n",
       "1413       Sergio Daniel C.\n",
       "186        Maria Julieta D.\n",
       "1734               Scott K.\n",
       "Name: name, dtype: object"
      ]
     },
     "execution_count": 14,
     "metadata": {},
     "output_type": "execute_result"
    },
    {
     "data": {
      "application/javascript": [
       "\n",
       "            setTimeout(function() {\n",
       "                var nbb_cell_id = 14;\n",
       "                var nbb_unformatted_code = \"# recommedation (similarity) calculated based only on description\\nget_contentbased_recs(\\\"Guangjie P.\\\")\";\n",
       "                var nbb_formatted_code = \"# recommedation (similarity) calculated based only on description\\nget_contentbased_recs(\\\"Guangjie P.\\\")\";\n",
       "                var nbb_cells = Jupyter.notebook.get_cells();\n",
       "                for (var i = 0; i < nbb_cells.length; ++i) {\n",
       "                    if (nbb_cells[i].input_prompt_number == nbb_cell_id) {\n",
       "                        if (nbb_cells[i].get_text() == nbb_unformatted_code) {\n",
       "                             nbb_cells[i].set_text(nbb_formatted_code);\n",
       "                        }\n",
       "                        break;\n",
       "                    }\n",
       "                }\n",
       "            }, 500);\n",
       "            "
      ],
      "text/plain": [
       "<IPython.core.display.Javascript object>"
      ]
     },
     "metadata": {},
     "output_type": "display_data"
    }
   ],
   "source": [
    "# recommedation (similarity) calculated based only on description\n",
    "get_contentbased_recs(\"Guangjie P.\")"
   ]
  },
  {
   "cell_type": "markdown",
   "id": "c4a24b3a",
   "metadata": {},
   "source": [
    "### Improve on Recommendation performance by incorporating a developer's skills\n",
    "The quality of the recommender would be increased with the usage of better metadata, i.e. by incorporating skills!"
   ]
  },
  {
   "cell_type": "code",
   "execution_count": 15,
   "id": "a060c847",
   "metadata": {
    "scrolled": false
   },
   "outputs": [
    {
     "data": {
      "application/javascript": [
       "\n",
       "            setTimeout(function() {\n",
       "                var nbb_cell_id = 15;\n",
       "                var nbb_unformatted_code = \"### remove spaces from df column names\\ndf.columns = df.columns.str.replace(\\\" \\\", \\\"\\\")\";\n",
       "                var nbb_formatted_code = \"### remove spaces from df column names\\ndf.columns = df.columns.str.replace(\\\" \\\", \\\"\\\")\";\n",
       "                var nbb_cells = Jupyter.notebook.get_cells();\n",
       "                for (var i = 0; i < nbb_cells.length; ++i) {\n",
       "                    if (nbb_cells[i].input_prompt_number == nbb_cell_id) {\n",
       "                        if (nbb_cells[i].get_text() == nbb_unformatted_code) {\n",
       "                             nbb_cells[i].set_text(nbb_formatted_code);\n",
       "                        }\n",
       "                        break;\n",
       "                    }\n",
       "                }\n",
       "            }, 500);\n",
       "            "
      ],
      "text/plain": [
       "<IPython.core.display.Javascript object>"
      ]
     },
     "metadata": {},
     "output_type": "display_data"
    }
   ],
   "source": [
    "### remove spaces from df column names\n",
    "df.columns = df.columns.str.replace(\" \", \"\")"
   ]
  },
  {
   "cell_type": "code",
   "execution_count": 16,
   "id": "54e86708",
   "metadata": {},
   "outputs": [
    {
     "data": {
      "application/javascript": [
       "\n",
       "            setTimeout(function() {\n",
       "                var nbb_cell_id = 16;\n",
       "                var nbb_unformatted_code = \"# add trailing space\\ndf.columns = df.columns + \\\" \\\"\";\n",
       "                var nbb_formatted_code = \"# add trailing space\\ndf.columns = df.columns + \\\" \\\"\";\n",
       "                var nbb_cells = Jupyter.notebook.get_cells();\n",
       "                for (var i = 0; i < nbb_cells.length; ++i) {\n",
       "                    if (nbb_cells[i].input_prompt_number == nbb_cell_id) {\n",
       "                        if (nbb_cells[i].get_text() == nbb_unformatted_code) {\n",
       "                             nbb_cells[i].set_text(nbb_formatted_code);\n",
       "                        }\n",
       "                        break;\n",
       "                    }\n",
       "                }\n",
       "            }, 500);\n",
       "            "
      ],
      "text/plain": [
       "<IPython.core.display.Javascript object>"
      ]
     },
     "metadata": {},
     "output_type": "display_data"
    }
   ],
   "source": [
    "# add trailing space\n",
    "df.columns = df.columns + \" \""
   ]
  },
  {
   "cell_type": "code",
   "execution_count": 17,
   "id": "98fd448d",
   "metadata": {},
   "outputs": [
    {
     "data": {
      "application/javascript": [
       "\n",
       "            setTimeout(function() {\n",
       "                var nbb_cell_id = 17;\n",
       "                var nbb_unformatted_code = \"df = df.reset_index(drop=True)\";\n",
       "                var nbb_formatted_code = \"df = df.reset_index(drop=True)\";\n",
       "                var nbb_cells = Jupyter.notebook.get_cells();\n",
       "                for (var i = 0; i < nbb_cells.length; ++i) {\n",
       "                    if (nbb_cells[i].input_prompt_number == nbb_cell_id) {\n",
       "                        if (nbb_cells[i].get_text() == nbb_unformatted_code) {\n",
       "                             nbb_cells[i].set_text(nbb_formatted_code);\n",
       "                        }\n",
       "                        break;\n",
       "                    }\n",
       "                }\n",
       "            }, 500);\n",
       "            "
      ],
      "text/plain": [
       "<IPython.core.display.Javascript object>"
      ]
     },
     "metadata": {},
     "output_type": "display_data"
    }
   ],
   "source": [
    "df = df.reset_index(drop=True)"
   ]
  },
  {
   "cell_type": "markdown",
   "id": "89879b87",
   "metadata": {},
   "source": [
    "#### get column names corresponding to nonzero row entry"
   ]
  },
  {
   "cell_type": "code",
   "execution_count": 18,
   "id": "6f25dd5f",
   "metadata": {
    "scrolled": true
   },
   "outputs": [
    {
     "data": {
      "application/javascript": [
       "\n",
       "            setTimeout(function() {\n",
       "                var nbb_cell_id = 18;\n",
       "                var nbb_unformatted_code = \"skills = (\\n    df.iloc[:, 4:]\\n    .apply(lambda row: list(row[row > 0].index), axis=1)\\n    .reset_index(drop=True)\\n)\";\n",
       "                var nbb_formatted_code = \"skills = (\\n    df.iloc[:, 4:]\\n    .apply(lambda row: list(row[row > 0].index), axis=1)\\n    .reset_index(drop=True)\\n)\";\n",
       "                var nbb_cells = Jupyter.notebook.get_cells();\n",
       "                for (var i = 0; i < nbb_cells.length; ++i) {\n",
       "                    if (nbb_cells[i].input_prompt_number == nbb_cell_id) {\n",
       "                        if (nbb_cells[i].get_text() == nbb_unformatted_code) {\n",
       "                             nbb_cells[i].set_text(nbb_formatted_code);\n",
       "                        }\n",
       "                        break;\n",
       "                    }\n",
       "                }\n",
       "            }, 500);\n",
       "            "
      ],
      "text/plain": [
       "<IPython.core.display.Javascript object>"
      ]
     },
     "metadata": {},
     "output_type": "display_data"
    }
   ],
   "source": [
    "skills = (\n",
    "    df.iloc[:, 4:]\n",
    "    .apply(lambda row: list(row[row > 0].index), axis=1)\n",
    "    .reset_index(drop=True)\n",
    ")"
   ]
  },
  {
   "cell_type": "markdown",
   "id": "e3fa0aae",
   "metadata": {
    "scrolled": true
   },
   "source": [
    "#### get column values corresponding to nonzero row entry"
   ]
  },
  {
   "cell_type": "code",
   "execution_count": 19,
   "id": "6b92cfe8",
   "metadata": {},
   "outputs": [
    {
     "data": {
      "application/javascript": [
       "\n",
       "            setTimeout(function() {\n",
       "                var nbb_cell_id = 19;\n",
       "                var nbb_unformatted_code = \"num_projects = []\\nfor idx, row in df.iloc[:, 4:].iterrows():\\n    x = row.values\\n    num_projects.append(list(x[np.nonzero(x)]))\";\n",
       "                var nbb_formatted_code = \"num_projects = []\\nfor idx, row in df.iloc[:, 4:].iterrows():\\n    x = row.values\\n    num_projects.append(list(x[np.nonzero(x)]))\";\n",
       "                var nbb_cells = Jupyter.notebook.get_cells();\n",
       "                for (var i = 0; i < nbb_cells.length; ++i) {\n",
       "                    if (nbb_cells[i].input_prompt_number == nbb_cell_id) {\n",
       "                        if (nbb_cells[i].get_text() == nbb_unformatted_code) {\n",
       "                             nbb_cells[i].set_text(nbb_formatted_code);\n",
       "                        }\n",
       "                        break;\n",
       "                    }\n",
       "                }\n",
       "            }, 500);\n",
       "            "
      ],
      "text/plain": [
       "<IPython.core.display.Javascript object>"
      ]
     },
     "metadata": {},
     "output_type": "display_data"
    }
   ],
   "source": [
    "num_projects = []\n",
    "for idx, row in df.iloc[:, 4:].iterrows():\n",
    "    x = row.values\n",
    "    num_projects.append(list(x[np.nonzero(x)]))"
   ]
  },
  {
   "cell_type": "markdown",
   "id": "97814801",
   "metadata": {},
   "source": [
    "#### combine column names and values to df"
   ]
  },
  {
   "cell_type": "code",
   "execution_count": 20,
   "id": "4748243e",
   "metadata": {},
   "outputs": [
    {
     "data": {
      "application/javascript": [
       "\n",
       "            setTimeout(function() {\n",
       "                var nbb_cell_id = 20;\n",
       "                var nbb_unformatted_code = \"new_df = pd.DataFrame(columns=[\\\"skills\\\", \\\"num_projects\\\"])\";\n",
       "                var nbb_formatted_code = \"new_df = pd.DataFrame(columns=[\\\"skills\\\", \\\"num_projects\\\"])\";\n",
       "                var nbb_cells = Jupyter.notebook.get_cells();\n",
       "                for (var i = 0; i < nbb_cells.length; ++i) {\n",
       "                    if (nbb_cells[i].input_prompt_number == nbb_cell_id) {\n",
       "                        if (nbb_cells[i].get_text() == nbb_unformatted_code) {\n",
       "                             nbb_cells[i].set_text(nbb_formatted_code);\n",
       "                        }\n",
       "                        break;\n",
       "                    }\n",
       "                }\n",
       "            }, 500);\n",
       "            "
      ],
      "text/plain": [
       "<IPython.core.display.Javascript object>"
      ]
     },
     "metadata": {},
     "output_type": "display_data"
    }
   ],
   "source": [
    "new_df = pd.DataFrame(columns=[\"skills\", \"num_projects\"])"
   ]
  },
  {
   "cell_type": "code",
   "execution_count": 21,
   "id": "58898927",
   "metadata": {},
   "outputs": [
    {
     "data": {
      "application/javascript": [
       "\n",
       "            setTimeout(function() {\n",
       "                var nbb_cell_id = 21;\n",
       "                var nbb_unformatted_code = \"new_df[\\\"skills\\\"] = skills\";\n",
       "                var nbb_formatted_code = \"new_df[\\\"skills\\\"] = skills\";\n",
       "                var nbb_cells = Jupyter.notebook.get_cells();\n",
       "                for (var i = 0; i < nbb_cells.length; ++i) {\n",
       "                    if (nbb_cells[i].input_prompt_number == nbb_cell_id) {\n",
       "                        if (nbb_cells[i].get_text() == nbb_unformatted_code) {\n",
       "                             nbb_cells[i].set_text(nbb_formatted_code);\n",
       "                        }\n",
       "                        break;\n",
       "                    }\n",
       "                }\n",
       "            }, 500);\n",
       "            "
      ],
      "text/plain": [
       "<IPython.core.display.Javascript object>"
      ]
     },
     "metadata": {},
     "output_type": "display_data"
    }
   ],
   "source": [
    "new_df[\"skills\"] = skills"
   ]
  },
  {
   "cell_type": "code",
   "execution_count": 22,
   "id": "def164d2",
   "metadata": {},
   "outputs": [
    {
     "data": {
      "application/javascript": [
       "\n",
       "            setTimeout(function() {\n",
       "                var nbb_cell_id = 22;\n",
       "                var nbb_unformatted_code = \"new_df[\\\"num_projects\\\"] = num_projects\";\n",
       "                var nbb_formatted_code = \"new_df[\\\"num_projects\\\"] = num_projects\";\n",
       "                var nbb_cells = Jupyter.notebook.get_cells();\n",
       "                for (var i = 0; i < nbb_cells.length; ++i) {\n",
       "                    if (nbb_cells[i].input_prompt_number == nbb_cell_id) {\n",
       "                        if (nbb_cells[i].get_text() == nbb_unformatted_code) {\n",
       "                             nbb_cells[i].set_text(nbb_formatted_code);\n",
       "                        }\n",
       "                        break;\n",
       "                    }\n",
       "                }\n",
       "            }, 500);\n",
       "            "
      ],
      "text/plain": [
       "<IPython.core.display.Javascript object>"
      ]
     },
     "metadata": {},
     "output_type": "display_data"
    }
   ],
   "source": [
    "new_df[\"num_projects\"] = num_projects"
   ]
  },
  {
   "cell_type": "markdown",
   "id": "764411b5",
   "metadata": {},
   "source": [
    "#### make nlp soup"
   ]
  },
  {
   "cell_type": "code",
   "execution_count": 23,
   "id": "478cb912",
   "metadata": {
    "scrolled": true
   },
   "outputs": [
    {
     "data": {
      "application/javascript": [
       "\n",
       "            setTimeout(function() {\n",
       "                var nbb_cell_id = 23;\n",
       "                var nbb_unformatted_code = \"soup = []\\nfor idx, row in new_df.iterrows():\\n    a = row[\\\"skills\\\"]\\n    b = row[\\\"num_projects\\\"]\\n    soup.append(\\\",\\\".join([a[i] * b[i] for i in range(len(a))]).replace(\\\",\\\", \\\"\\\"))\";\n",
       "                var nbb_formatted_code = \"soup = []\\nfor idx, row in new_df.iterrows():\\n    a = row[\\\"skills\\\"]\\n    b = row[\\\"num_projects\\\"]\\n    soup.append(\\\",\\\".join([a[i] * b[i] for i in range(len(a))]).replace(\\\",\\\", \\\"\\\"))\";\n",
       "                var nbb_cells = Jupyter.notebook.get_cells();\n",
       "                for (var i = 0; i < nbb_cells.length; ++i) {\n",
       "                    if (nbb_cells[i].input_prompt_number == nbb_cell_id) {\n",
       "                        if (nbb_cells[i].get_text() == nbb_unformatted_code) {\n",
       "                             nbb_cells[i].set_text(nbb_formatted_code);\n",
       "                        }\n",
       "                        break;\n",
       "                    }\n",
       "                }\n",
       "            }, 500);\n",
       "            "
      ],
      "text/plain": [
       "<IPython.core.display.Javascript object>"
      ]
     },
     "metadata": {},
     "output_type": "display_data"
    }
   ],
   "source": [
    "soup = []\n",
    "for idx, row in new_df.iterrows():\n",
    "    a = row[\"skills\"]\n",
    "    b = row[\"num_projects\"]\n",
    "    soup.append(\",\".join([a[i] * b[i] for i in range(len(a))]).replace(\",\", \"\"))"
   ]
  },
  {
   "cell_type": "code",
   "execution_count": 24,
   "id": "93c5ac1d",
   "metadata": {},
   "outputs": [
    {
     "data": {
      "application/javascript": [
       "\n",
       "            setTimeout(function() {\n",
       "                var nbb_cell_id = 24;\n",
       "                var nbb_unformatted_code = \"new_df[\\\"nlp\\\"] = soup\";\n",
       "                var nbb_formatted_code = \"new_df[\\\"nlp\\\"] = soup\";\n",
       "                var nbb_cells = Jupyter.notebook.get_cells();\n",
       "                for (var i = 0; i < nbb_cells.length; ++i) {\n",
       "                    if (nbb_cells[i].input_prompt_number == nbb_cell_id) {\n",
       "                        if (nbb_cells[i].get_text() == nbb_unformatted_code) {\n",
       "                             nbb_cells[i].set_text(nbb_formatted_code);\n",
       "                        }\n",
       "                        break;\n",
       "                    }\n",
       "                }\n",
       "            }, 500);\n",
       "            "
      ],
      "text/plain": [
       "<IPython.core.display.Javascript object>"
      ]
     },
     "metadata": {},
     "output_type": "display_data"
    }
   ],
   "source": [
    "new_df[\"nlp\"] = soup"
   ]
  },
  {
   "cell_type": "markdown",
   "id": "1b20cde1",
   "metadata": {},
   "source": [
    "#### get count of words per developer's generated nlp"
   ]
  },
  {
   "cell_type": "code",
   "execution_count": 25,
   "id": "895e3f83",
   "metadata": {},
   "outputs": [
    {
     "data": {
      "application/javascript": [
       "\n",
       "            setTimeout(function() {\n",
       "                var nbb_cell_id = 25;\n",
       "                var nbb_unformatted_code = \"# Import CountVectorizer and create the count matrix\\ncount = CountVectorizer(stop_words=\\\"english\\\")\\ncount_matrix = count.fit_transform(new_df[\\\"nlp\\\"])\";\n",
       "                var nbb_formatted_code = \"# Import CountVectorizer and create the count matrix\\ncount = CountVectorizer(stop_words=\\\"english\\\")\\ncount_matrix = count.fit_transform(new_df[\\\"nlp\\\"])\";\n",
       "                var nbb_cells = Jupyter.notebook.get_cells();\n",
       "                for (var i = 0; i < nbb_cells.length; ++i) {\n",
       "                    if (nbb_cells[i].input_prompt_number == nbb_cell_id) {\n",
       "                        if (nbb_cells[i].get_text() == nbb_unformatted_code) {\n",
       "                             nbb_cells[i].set_text(nbb_formatted_code);\n",
       "                        }\n",
       "                        break;\n",
       "                    }\n",
       "                }\n",
       "            }, 500);\n",
       "            "
      ],
      "text/plain": [
       "<IPython.core.display.Javascript object>"
      ]
     },
     "metadata": {},
     "output_type": "display_data"
    }
   ],
   "source": [
    "# Import CountVectorizer and create the count matrix\n",
    "count = CountVectorizer(stop_words=\"english\")\n",
    "count_matrix = count.fit_transform(new_df[\"nlp\"])"
   ]
  },
  {
   "cell_type": "code",
   "execution_count": 26,
   "id": "1dd19ab8",
   "metadata": {},
   "outputs": [
    {
     "data": {
      "text/plain": [
       "(2145, 593)"
      ]
     },
     "execution_count": 26,
     "metadata": {},
     "output_type": "execute_result"
    },
    {
     "data": {
      "application/javascript": [
       "\n",
       "            setTimeout(function() {\n",
       "                var nbb_cell_id = 26;\n",
       "                var nbb_unformatted_code = \"count_matrix.shape  # 612 vocabularies\";\n",
       "                var nbb_formatted_code = \"count_matrix.shape  # 612 vocabularies\";\n",
       "                var nbb_cells = Jupyter.notebook.get_cells();\n",
       "                for (var i = 0; i < nbb_cells.length; ++i) {\n",
       "                    if (nbb_cells[i].input_prompt_number == nbb_cell_id) {\n",
       "                        if (nbb_cells[i].get_text() == nbb_unformatted_code) {\n",
       "                             nbb_cells[i].set_text(nbb_formatted_code);\n",
       "                        }\n",
       "                        break;\n",
       "                    }\n",
       "                }\n",
       "            }, 500);\n",
       "            "
      ],
      "text/plain": [
       "<IPython.core.display.Javascript object>"
      ]
     },
     "metadata": {},
     "output_type": "display_data"
    }
   ],
   "source": [
    "count_matrix.shape  # 593 vocabularies"
   ]
  },
  {
   "cell_type": "markdown",
   "id": "072cc4e4",
   "metadata": {},
   "source": [
    "#### measure distance between embeddings"
   ]
  },
  {
   "cell_type": "code",
   "execution_count": 27,
   "id": "1ba3b85c",
   "metadata": {},
   "outputs": [
    {
     "data": {
      "application/javascript": [
       "\n",
       "            setTimeout(function() {\n",
       "                var nbb_cell_id = 27;\n",
       "                var nbb_unformatted_code = \"# Compute the Cosine Similarity matrix based on the count_matrix\\ncosine_sim2 = cosine_similarity(count_matrix, count_matrix)\";\n",
       "                var nbb_formatted_code = \"# Compute the Cosine Similarity matrix based on the count_matrix\\ncosine_sim2 = cosine_similarity(count_matrix, count_matrix)\";\n",
       "                var nbb_cells = Jupyter.notebook.get_cells();\n",
       "                for (var i = 0; i < nbb_cells.length; ++i) {\n",
       "                    if (nbb_cells[i].input_prompt_number == nbb_cell_id) {\n",
       "                        if (nbb_cells[i].get_text() == nbb_unformatted_code) {\n",
       "                             nbb_cells[i].set_text(nbb_formatted_code);\n",
       "                        }\n",
       "                        break;\n",
       "                    }\n",
       "                }\n",
       "            }, 500);\n",
       "            "
      ],
      "text/plain": [
       "<IPython.core.display.Javascript object>"
      ]
     },
     "metadata": {},
     "output_type": "display_data"
    }
   ],
   "source": [
    "# Compute the Cosine Similarity matrix based on the count_matrix\n",
    "cosine_sim2 = cosine_similarity(count_matrix, count_matrix)"
   ]
  },
  {
   "cell_type": "code",
   "execution_count": 28,
   "id": "169fda53",
   "metadata": {},
   "outputs": [
    {
     "data": {
      "application/javascript": [
       "\n",
       "            setTimeout(function() {\n",
       "                var nbb_cell_id = 28;\n",
       "                var nbb_unformatted_code = \"# Reset index of your main DataFrame and construct reverse mapping as before\\nindices = pd.Series(df.index, index=df[\\\"name \\\"]).drop_duplicates()\";\n",
       "                var nbb_formatted_code = \"# Reset index of your main DataFrame and construct reverse mapping as before\\nindices = pd.Series(df.index, index=df[\\\"name \\\"]).drop_duplicates()\";\n",
       "                var nbb_cells = Jupyter.notebook.get_cells();\n",
       "                for (var i = 0; i < nbb_cells.length; ++i) {\n",
       "                    if (nbb_cells[i].input_prompt_number == nbb_cell_id) {\n",
       "                        if (nbb_cells[i].get_text() == nbb_unformatted_code) {\n",
       "                             nbb_cells[i].set_text(nbb_formatted_code);\n",
       "                        }\n",
       "                        break;\n",
       "                    }\n",
       "                }\n",
       "            }, 500);\n",
       "            "
      ],
      "text/plain": [
       "<IPython.core.display.Javascript object>"
      ]
     },
     "metadata": {},
     "output_type": "display_data"
    }
   ],
   "source": [
    "# Reset index of your main DataFrame and construct reverse mapping as before\n",
    "indices = pd.Series(df.index, index=df[\"name \"]).drop_duplicates()"
   ]
  },
  {
   "cell_type": "markdown",
   "id": "adbc58b4",
   "metadata": {},
   "source": [
    "### get content-based recs incoporating descriptions and skills"
   ]
  },
  {
   "cell_type": "code",
   "execution_count": 29,
   "id": "560b098e",
   "metadata": {},
   "outputs": [
    {
     "data": {
      "application/javascript": [
       "\n",
       "            setTimeout(function() {\n",
       "                var nbb_cell_id = 29;\n",
       "                var nbb_unformatted_code = \"def get_contentbased_recs(name, cosine_sim=cosine_sim):\\n    # Get the index of the movie that matches the title\\n    idx = indices[name]\\n\\n    # Get the pairwsie similarity scores of all movies with that movie\\n    sim_scores = list(enumerate(cosine_sim[idx]))\\n\\n    # Sort the movies based on the similarity scores\\n    sim_scores = sorted(sim_scores, key=lambda x: x[1], reverse=True)\\n\\n    # Get the scores of the 10 most similar movies\\n    sim_scores = sim_scores[1:11]\\n\\n    # Get the movie indices\\n    dev_indices = [i[0] for i in sim_scores]\\n\\n    # Return the top 10 most similar movies\\n    return df[\\\"name \\\"].iloc[dev_indices]\";\n",
       "                var nbb_formatted_code = \"def get_contentbased_recs(name, cosine_sim=cosine_sim):\\n    # Get the index of the movie that matches the title\\n    idx = indices[name]\\n\\n    # Get the pairwsie similarity scores of all movies with that movie\\n    sim_scores = list(enumerate(cosine_sim[idx]))\\n\\n    # Sort the movies based on the similarity scores\\n    sim_scores = sorted(sim_scores, key=lambda x: x[1], reverse=True)\\n\\n    # Get the scores of the 10 most similar movies\\n    sim_scores = sim_scores[1:11]\\n\\n    # Get the movie indices\\n    dev_indices = [i[0] for i in sim_scores]\\n\\n    # Return the top 10 most similar movies\\n    return df[\\\"name \\\"].iloc[dev_indices]\";\n",
       "                var nbb_cells = Jupyter.notebook.get_cells();\n",
       "                for (var i = 0; i < nbb_cells.length; ++i) {\n",
       "                    if (nbb_cells[i].input_prompt_number == nbb_cell_id) {\n",
       "                        if (nbb_cells[i].get_text() == nbb_unformatted_code) {\n",
       "                             nbb_cells[i].set_text(nbb_formatted_code);\n",
       "                        }\n",
       "                        break;\n",
       "                    }\n",
       "                }\n",
       "            }, 500);\n",
       "            "
      ],
      "text/plain": [
       "<IPython.core.display.Javascript object>"
      ]
     },
     "metadata": {},
     "output_type": "display_data"
    }
   ],
   "source": [
    "def get_contentbased_recs(name, cosine_sim=cosine_sim):\n",
    "    # Get the index of the movie that matches the title\n",
    "    idx = indices[name]\n",
    "\n",
    "    # Get the pairwsie similarity scores of all movies with that movie\n",
    "    sim_scores = list(enumerate(cosine_sim[idx]))\n",
    "\n",
    "    # Sort the movies based on the similarity scores\n",
    "    sim_scores = sorted(sim_scores, key=lambda x: x[1], reverse=True)\n",
    "\n",
    "    # Get the scores of the 10 most similar movies\n",
    "    sim_scores = sim_scores[1:11]\n",
    "\n",
    "    # Get the movie indices\n",
    "    dev_indices = [i[0] for i in sim_scores]\n",
    "\n",
    "    # Return the top 10 most similar movies\n",
    "    return df[\"name \"].iloc[dev_indices]"
   ]
  },
  {
   "cell_type": "code",
   "execution_count": 30,
   "id": "7efe6eff",
   "metadata": {},
   "outputs": [
    {
     "data": {
      "text/plain": [
       "82                   Dane P.\n",
       "1442                  Geiler\n",
       "51      Mohammad Shariful A.\n",
       "177               Matheus S.\n",
       "1246               Khizar A.\n",
       "1074              Vaibhav G.\n",
       "2108              Ayodeji O.\n",
       "1395          Abdul Razak Z.\n",
       "1561               Imtiaz J.\n",
       "0                 Stephen O.\n",
       "Name: name , dtype: object"
      ]
     },
     "execution_count": 30,
     "metadata": {},
     "output_type": "execute_result"
    },
    {
     "data": {
      "application/javascript": [
       "\n",
       "            setTimeout(function() {\n",
       "                var nbb_cell_id = 30;\n",
       "                var nbb_unformatted_code = \"# incorporates description and skills to recommend\\n# developers similar to the specified developer\\nget_contentbased_recs(\\\"Guangjie P.\\\", cosine_sim2)\";\n",
       "                var nbb_formatted_code = \"# incorporates description and skills to recommend\\n# developers similar to the specified developer\\nget_contentbased_recs(\\\"Guangjie P.\\\", cosine_sim2)\";\n",
       "                var nbb_cells = Jupyter.notebook.get_cells();\n",
       "                for (var i = 0; i < nbb_cells.length; ++i) {\n",
       "                    if (nbb_cells[i].input_prompt_number == nbb_cell_id) {\n",
       "                        if (nbb_cells[i].get_text() == nbb_unformatted_code) {\n",
       "                             nbb_cells[i].set_text(nbb_formatted_code);\n",
       "                        }\n",
       "                        break;\n",
       "                    }\n",
       "                }\n",
       "            }, 500);\n",
       "            "
      ],
      "text/plain": [
       "<IPython.core.display.Javascript object>"
      ]
     },
     "metadata": {},
     "output_type": "display_data"
    }
   ],
   "source": [
    "# incorporates description and skills to recommend\n",
    "# developers similar to the specified developer\n",
    "get_contentbased_recs(\"Guangjie P.\", cosine_sim2)"
   ]
  }
 ],
 "metadata": {
  "kernelspec": {
   "display_name": "Clustering",
   "language": "python",
   "name": "clustering"
  },
  "language_info": {
   "codemirror_mode": {
    "name": "ipython",
    "version": 3
   },
   "file_extension": ".py",
   "mimetype": "text/x-python",
   "name": "python",
   "nbconvert_exporter": "python",
   "pygments_lexer": "ipython3",
   "version": "3.6.3"
  }
 },
 "nbformat": 4,
 "nbformat_minor": 5
}

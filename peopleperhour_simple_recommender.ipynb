{
 "cells": [
  {
   "cell_type": "code",
   "execution_count": 1,
   "id": "c3279276",
   "metadata": {},
   "outputs": [
    {
     "data": {
      "application/javascript": [
       "\n",
       "            setTimeout(function() {\n",
       "                var nbb_cell_id = 1;\n",
       "                var nbb_unformatted_code = \"%reload_ext nb_black\";\n",
       "                var nbb_formatted_code = \"%reload_ext nb_black\";\n",
       "                var nbb_cells = Jupyter.notebook.get_cells();\n",
       "                for (var i = 0; i < nbb_cells.length; ++i) {\n",
       "                    if (nbb_cells[i].input_prompt_number == nbb_cell_id) {\n",
       "                        if (nbb_cells[i].get_text() == nbb_unformatted_code) {\n",
       "                             nbb_cells[i].set_text(nbb_formatted_code);\n",
       "                        }\n",
       "                        break;\n",
       "                    }\n",
       "                }\n",
       "            }, 500);\n",
       "            "
      ],
      "text/plain": [
       "<IPython.core.display.Javascript object>"
      ]
     },
     "metadata": {},
     "output_type": "display_data"
    }
   ],
   "source": [
    "%reload_ext nb_black"
   ]
  },
  {
   "cell_type": "markdown",
   "id": "b20d8c9c",
   "metadata": {},
   "source": [
    "# A simple Recommendation System using the weighted-average rating of each developer"
   ]
  },
  {
   "cell_type": "code",
   "execution_count": 2,
   "id": "56ae51a4",
   "metadata": {},
   "outputs": [
    {
     "data": {
      "application/javascript": [
       "\n",
       "            setTimeout(function() {\n",
       "                var nbb_cell_id = 2;\n",
       "                var nbb_unformatted_code = \"import pandas as pd\\nimport numpy as np\\nfrom numpy import mean\\n\\nimport seaborn as sns\\nimport matplotlib.pyplot as plt\\n\\n# anonymize data\\nimport unicodecsv as csv\\nfrom collections import defaultdict\\nfrom faker import Faker\\n\\nfrom sklearn.preprocessing import MinMaxScaler\";\n",
       "                var nbb_formatted_code = \"import pandas as pd\\nimport numpy as np\\nfrom numpy import mean\\n\\nimport seaborn as sns\\nimport matplotlib.pyplot as plt\\n\\n# anonymize data\\nimport unicodecsv as csv\\nfrom collections import defaultdict\\nfrom faker import Faker\\n\\nfrom sklearn.preprocessing import MinMaxScaler\";\n",
       "                var nbb_cells = Jupyter.notebook.get_cells();\n",
       "                for (var i = 0; i < nbb_cells.length; ++i) {\n",
       "                    if (nbb_cells[i].input_prompt_number == nbb_cell_id) {\n",
       "                        if (nbb_cells[i].get_text() == nbb_unformatted_code) {\n",
       "                             nbb_cells[i].set_text(nbb_formatted_code);\n",
       "                        }\n",
       "                        break;\n",
       "                    }\n",
       "                }\n",
       "            }, 500);\n",
       "            "
      ],
      "text/plain": [
       "<IPython.core.display.Javascript object>"
      ]
     },
     "metadata": {},
     "output_type": "display_data"
    }
   ],
   "source": [
    "import pandas as pd\n",
    "import numpy as np\n",
    "from numpy import mean\n",
    "\n",
    "import seaborn as sns\n",
    "import matplotlib.pyplot as plt\n",
    "\n",
    "# anonymize data\n",
    "import unicodecsv as csv\n",
    "from collections import defaultdict\n",
    "from faker import Faker\n",
    "\n",
    "from sklearn.preprocessing import MinMaxScaler"
   ]
  },
  {
   "cell_type": "markdown",
   "id": "2c3984e6",
   "metadata": {},
   "source": [
    "### read in data"
   ]
  },
  {
   "cell_type": "code",
   "execution_count": 3,
   "id": "7aae0195",
   "metadata": {},
   "outputs": [
    {
     "data": {
      "application/javascript": [
       "\n",
       "            setTimeout(function() {\n",
       "                var nbb_cell_id = 3;\n",
       "                var nbb_unformatted_code = \"df = pd.read_csv(\\\"data/peopleperhour_clean_data.csv\\\").drop([\\\"Unnamed: 0\\\"], axis=1)\";\n",
       "                var nbb_formatted_code = \"df = pd.read_csv(\\\"data/peopleperhour_clean_data.csv\\\").drop([\\\"Unnamed: 0\\\"], axis=1)\";\n",
       "                var nbb_cells = Jupyter.notebook.get_cells();\n",
       "                for (var i = 0; i < nbb_cells.length; ++i) {\n",
       "                    if (nbb_cells[i].input_prompt_number == nbb_cell_id) {\n",
       "                        if (nbb_cells[i].get_text() == nbb_unformatted_code) {\n",
       "                             nbb_cells[i].set_text(nbb_formatted_code);\n",
       "                        }\n",
       "                        break;\n",
       "                    }\n",
       "                }\n",
       "            }, 500);\n",
       "            "
      ],
      "text/plain": [
       "<IPython.core.display.Javascript object>"
      ]
     },
     "metadata": {},
     "output_type": "display_data"
    }
   ],
   "source": [
    "df = pd.read_csv(\"data/peopleperhour_clean_data.csv\").drop([\"Unnamed: 0\"], axis=1)"
   ]
  },
  {
   "cell_type": "code",
   "execution_count": 4,
   "id": "85589651",
   "metadata": {},
   "outputs": [
    {
     "data": {
      "application/javascript": [
       "\n",
       "            setTimeout(function() {\n",
       "                var nbb_cell_id = 4;\n",
       "                var nbb_unformatted_code = \"# drop duplicates by duplicate names\\ndf = df.drop_duplicates(subset=\\\"name\\\")\";\n",
       "                var nbb_formatted_code = \"# drop duplicates by duplicate names\\ndf = df.drop_duplicates(subset=\\\"name\\\")\";\n",
       "                var nbb_cells = Jupyter.notebook.get_cells();\n",
       "                for (var i = 0; i < nbb_cells.length; ++i) {\n",
       "                    if (nbb_cells[i].input_prompt_number == nbb_cell_id) {\n",
       "                        if (nbb_cells[i].get_text() == nbb_unformatted_code) {\n",
       "                             nbb_cells[i].set_text(nbb_formatted_code);\n",
       "                        }\n",
       "                        break;\n",
       "                    }\n",
       "                }\n",
       "            }, 500);\n",
       "            "
      ],
      "text/plain": [
       "<IPython.core.display.Javascript object>"
      ]
     },
     "metadata": {},
     "output_type": "display_data"
    }
   ],
   "source": [
    "# drop duplicates by duplicate names\n",
    "df = df.drop_duplicates(subset=\"name\")"
   ]
  },
  {
   "cell_type": "markdown",
   "id": "aaf110f6",
   "metadata": {},
   "source": [
    "## Anonymize data"
   ]
  },
  {
   "cell_type": "markdown",
   "id": "fbab934d",
   "metadata": {},
   "source": [
    "### soln1:create fake names"
   ]
  },
  {
   "cell_type": "code",
   "execution_count": 5,
   "id": "afd03710",
   "metadata": {},
   "outputs": [
    {
     "data": {
      "application/javascript": [
       "\n",
       "            setTimeout(function() {\n",
       "                var nbb_cell_id = 5;\n",
       "                var nbb_unformatted_code = \"fake = Faker()\\n\\n\\ndef fake_name(row):\\n    return fake.name()\\n\\n\\ndf[\\\"name\\\"] = df.apply(fake_name, axis=1)\";\n",
       "                var nbb_formatted_code = \"fake = Faker()\\n\\n\\ndef fake_name(row):\\n    return fake.name()\\n\\n\\ndf[\\\"name\\\"] = df.apply(fake_name, axis=1)\";\n",
       "                var nbb_cells = Jupyter.notebook.get_cells();\n",
       "                for (var i = 0; i < nbb_cells.length; ++i) {\n",
       "                    if (nbb_cells[i].input_prompt_number == nbb_cell_id) {\n",
       "                        if (nbb_cells[i].get_text() == nbb_unformatted_code) {\n",
       "                             nbb_cells[i].set_text(nbb_formatted_code);\n",
       "                        }\n",
       "                        break;\n",
       "                    }\n",
       "                }\n",
       "            }, 500);\n",
       "            "
      ],
      "text/plain": [
       "<IPython.core.display.Javascript object>"
      ]
     },
     "metadata": {},
     "output_type": "display_data"
    }
   ],
   "source": [
    "fake = Faker()\n",
    "\n",
    "\n",
    "def fake_name(row):\n",
    "    return fake.name()\n",
    "\n",
    "\n",
    "df[\"name\"] = df.apply(fake_name, axis=1)"
   ]
  },
  {
   "cell_type": "markdown",
   "id": "02c9e204",
   "metadata": {},
   "source": [
    "### soln2:map names to numbers"
   ]
  },
  {
   "cell_type": "code",
   "execution_count": 6,
   "id": "bc1f806a",
   "metadata": {},
   "outputs": [
    {
     "data": {
      "application/javascript": [
       "\n",
       "            setTimeout(function() {\n",
       "                var nbb_cell_id = 6;\n",
       "                var nbb_unformatted_code = \"# track mapping of names to numbers\\nmy_dict = dict(zip(list(df[\\\"name\\\"].unique()), range(len(list(df[\\\"name\\\"].unique())))))\";\n",
       "                var nbb_formatted_code = \"# track mapping of names to numbers\\nmy_dict = dict(zip(list(df[\\\"name\\\"].unique()), range(len(list(df[\\\"name\\\"].unique())))))\";\n",
       "                var nbb_cells = Jupyter.notebook.get_cells();\n",
       "                for (var i = 0; i < nbb_cells.length; ++i) {\n",
       "                    if (nbb_cells[i].input_prompt_number == nbb_cell_id) {\n",
       "                        if (nbb_cells[i].get_text() == nbb_unformatted_code) {\n",
       "                             nbb_cells[i].set_text(nbb_formatted_code);\n",
       "                        }\n",
       "                        break;\n",
       "                    }\n",
       "                }\n",
       "            }, 500);\n",
       "            "
      ],
      "text/plain": [
       "<IPython.core.display.Javascript object>"
      ]
     },
     "metadata": {},
     "output_type": "display_data"
    }
   ],
   "source": [
    "# track mapping of names to numbers\n",
    "my_dict = dict(zip(list(df[\"name\"].unique()), range(len(list(df[\"name\"].unique())))))"
   ]
  },
  {
   "cell_type": "code",
   "execution_count": 7,
   "id": "7fb9ffdf",
   "metadata": {},
   "outputs": [
    {
     "data": {
      "application/javascript": [
       "\n",
       "            setTimeout(function() {\n",
       "                var nbb_cell_id = 7;\n",
       "                var nbb_unformatted_code = \"df_encoded = (\\n    df.reset_index().drop([\\\"name\\\"], axis=1).rename({\\\"index\\\": \\\"names_encoded\\\"}, axis=1)\\n)\";\n",
       "                var nbb_formatted_code = \"df_encoded = (\\n    df.reset_index().drop([\\\"name\\\"], axis=1).rename({\\\"index\\\": \\\"names_encoded\\\"}, axis=1)\\n)\";\n",
       "                var nbb_cells = Jupyter.notebook.get_cells();\n",
       "                for (var i = 0; i < nbb_cells.length; ++i) {\n",
       "                    if (nbb_cells[i].input_prompt_number == nbb_cell_id) {\n",
       "                        if (nbb_cells[i].get_text() == nbb_unformatted_code) {\n",
       "                             nbb_cells[i].set_text(nbb_formatted_code);\n",
       "                        }\n",
       "                        break;\n",
       "                    }\n",
       "                }\n",
       "            }, 500);\n",
       "            "
      ],
      "text/plain": [
       "<IPython.core.display.Javascript object>"
      ]
     },
     "metadata": {},
     "output_type": "display_data"
    }
   ],
   "source": [
    "df_encoded = (\n",
    "    df.reset_index().drop([\"name\"], axis=1).rename({\"index\": \"names_encoded\"}, axis=1)\n",
    ")"
   ]
  },
  {
   "cell_type": "markdown",
   "id": "47c86bd5",
   "metadata": {},
   "source": [
    "### convert ratings to USD"
   ]
  },
  {
   "cell_type": "code",
   "execution_count": 8,
   "id": "79744c4c",
   "metadata": {},
   "outputs": [
    {
     "data": {
      "application/javascript": [
       "\n",
       "            setTimeout(function() {\n",
       "                var nbb_cell_id = 8;\n",
       "                var nbb_unformatted_code = \"# convert rate row to rate_USD\\nfor idx, row in df.rate.items():\\n    if \\\"\\u00a3\\\" in row:\\n        row = row.split(\\\"\\u00a3\\\")[1]\\n        df.at[idx, \\\"rate\\\"] = round(int(row) * 1.37, 2)\\n    if \\\"\\u20ac\\\" in row:\\n        row = row.split(\\\"\\u20ac\\\")[1]\\n        df.at[idx, \\\"rate\\\"] = round(int(row) * 1.16, 2)\\n    if \\\"$\\\" in row:\\n        row = row.split(\\\"$\\\")[1]\\n        df.at[idx, \\\"rate\\\"] = row\";\n",
       "                var nbb_formatted_code = \"# convert rate row to rate_USD\\nfor idx, row in df.rate.items():\\n    if \\\"\\u00a3\\\" in row:\\n        row = row.split(\\\"\\u00a3\\\")[1]\\n        df.at[idx, \\\"rate\\\"] = round(int(row) * 1.37, 2)\\n    if \\\"\\u20ac\\\" in row:\\n        row = row.split(\\\"\\u20ac\\\")[1]\\n        df.at[idx, \\\"rate\\\"] = round(int(row) * 1.16, 2)\\n    if \\\"$\\\" in row:\\n        row = row.split(\\\"$\\\")[1]\\n        df.at[idx, \\\"rate\\\"] = row\";\n",
       "                var nbb_cells = Jupyter.notebook.get_cells();\n",
       "                for (var i = 0; i < nbb_cells.length; ++i) {\n",
       "                    if (nbb_cells[i].input_prompt_number == nbb_cell_id) {\n",
       "                        if (nbb_cells[i].get_text() == nbb_unformatted_code) {\n",
       "                             nbb_cells[i].set_text(nbb_formatted_code);\n",
       "                        }\n",
       "                        break;\n",
       "                    }\n",
       "                }\n",
       "            }, 500);\n",
       "            "
      ],
      "text/plain": [
       "<IPython.core.display.Javascript object>"
      ]
     },
     "metadata": {},
     "output_type": "display_data"
    }
   ],
   "source": [
    "# convert rate row to rate_USD\n",
    "for idx, row in df.rate.items():\n",
    "    if \"£\" in row:\n",
    "        row = row.split(\"£\")[1]\n",
    "        df.at[idx, \"rate\"] = round(int(row) * 1.37, 2)\n",
    "    if \"€\" in row:\n",
    "        row = row.split(\"€\")[1]\n",
    "        df.at[idx, \"rate\"] = round(int(row) * 1.16, 2)\n",
    "    if \"$\" in row:\n",
    "        row = row.split(\"$\")[1]\n",
    "        df.at[idx, \"rate\"] = row"
   ]
  },
  {
   "cell_type": "markdown",
   "id": "6119656e",
   "metadata": {},
   "source": [
    "# Simple Recommendation Machine based on rating only\n",
    "## Decide on the metric or score to rate developers on.\n",
    "#### rating\n",
    "## Calculate the score for every developer.\n",
    "#### rating/num_work_samples\n",
    "## Sort the developers based on the score and output the top results."
   ]
  },
  {
   "cell_type": "code",
   "execution_count": 9,
   "id": "2e3260fe",
   "metadata": {
    "scrolled": true
   },
   "outputs": [
    {
     "data": {
      "text/plain": [
       "<AxesSubplot:>"
      ]
     },
     "execution_count": 9,
     "metadata": {},
     "output_type": "execute_result"
    },
    {
     "data": {
      "image/png": "[encoded data removed]",
      "text/plain": [
       "<Figure size 432x288 with 1 Axes>"
      ]
     },
     "metadata": {
      "needs_background": "light"
     },
     "output_type": "display_data"
    },
    {
     "data": {
      "application/javascript": [
       "\n",
       "            setTimeout(function() {\n",
       "                var nbb_cell_id = 9;\n",
       "                var nbb_unformatted_code = \"df.rating.plot(kind=\\\"box\\\")\";\n",
       "                var nbb_formatted_code = \"df.rating.plot(kind=\\\"box\\\")\";\n",
       "                var nbb_cells = Jupyter.notebook.get_cells();\n",
       "                for (var i = 0; i < nbb_cells.length; ++i) {\n",
       "                    if (nbb_cells[i].input_prompt_number == nbb_cell_id) {\n",
       "                        if (nbb_cells[i].get_text() == nbb_unformatted_code) {\n",
       "                             nbb_cells[i].set_text(nbb_formatted_code);\n",
       "                        }\n",
       "                        break;\n",
       "                    }\n",
       "                }\n",
       "            }, 500);\n",
       "            "
      ],
      "text/plain": [
       "<IPython.core.display.Javascript object>"
      ]
     },
     "metadata": {},
     "output_type": "display_data"
    }
   ],
   "source": [
    "df.rating.plot(kind=\"box\")"
   ]
  },
  {
   "cell_type": "code",
   "execution_count": 10,
   "id": "136b8884",
   "metadata": {},
   "outputs": [
    {
     "data": {
      "text/plain": [
       "<AxesSubplot:>"
      ]
     },
     "execution_count": 10,
     "metadata": {},
     "output_type": "execute_result"
    },
    {
     "data": {
      "image/png": "[encoded data removed]",
      "text/plain": [
       "<Figure size 432x288 with 1 Axes>"
      ]
     },
     "metadata": {
      "needs_background": "light"
     },
     "output_type": "display_data"
    },
    {
     "data": {
      "application/javascript": [
       "\n",
       "            setTimeout(function() {\n",
       "                var nbb_cell_id = 10;\n",
       "                var nbb_unformatted_code = \"df.num_work_samples.plot(kind=\\\"box\\\")\";\n",
       "                var nbb_formatted_code = \"df.num_work_samples.plot(kind=\\\"box\\\")\";\n",
       "                var nbb_cells = Jupyter.notebook.get_cells();\n",
       "                for (var i = 0; i < nbb_cells.length; ++i) {\n",
       "                    if (nbb_cells[i].input_prompt_number == nbb_cell_id) {\n",
       "                        if (nbb_cells[i].get_text() == nbb_unformatted_code) {\n",
       "                             nbb_cells[i].set_text(nbb_formatted_code);\n",
       "                        }\n",
       "                        break;\n",
       "                    }\n",
       "                }\n",
       "            }, 500);\n",
       "            "
      ],
      "text/plain": [
       "<IPython.core.display.Javascript object>"
      ]
     },
     "metadata": {},
     "output_type": "display_data"
    }
   ],
   "source": [
    "df.num_work_samples.plot(kind=\"box\")"
   ]
  },
  {
   "cell_type": "code",
   "execution_count": 11,
   "id": "cbf3abe7",
   "metadata": {},
   "outputs": [
    {
     "ename": "NameError",
     "evalue": "name 'weight_average' is not defined",
     "output_type": "error",
     "traceback": [
      "\u001b[0;31m---------------------------------------------------------------------------\u001b[0m",
      "\u001b[0;31mNameError\u001b[0m                                 Traceback (most recent call last)",
      "\u001b[0;32m<ipython-input-11-ffe58d2668f7>\u001b[0m in \u001b[0;36m<module>\u001b[0;34m\u001b[0m\n\u001b[0;32m----> 1\u001b[0;31m \u001b[0mX\u001b[0m \u001b[0;34m=\u001b[0m \u001b[0mweight_average\u001b[0m\u001b[0;34m[\u001b[0m\u001b[0;34m\"num_work_samples\"\u001b[0m\u001b[0;34m]\u001b[0m\u001b[0;34m\u001b[0m\u001b[0m\n\u001b[0m\u001b[1;32m      2\u001b[0m \u001b[0mY\u001b[0m \u001b[0;34m=\u001b[0m \u001b[0mweight_average\u001b[0m\u001b[0;34m[\u001b[0m\u001b[0;34m\"rating\"\u001b[0m\u001b[0;34m]\u001b[0m\u001b[0;34m\u001b[0m\u001b[0m\n\u001b[1;32m      3\u001b[0m \u001b[0mplt\u001b[0m\u001b[0;34m.\u001b[0m\u001b[0mplot\u001b[0m\u001b[0;34m(\u001b[0m\u001b[0mX\u001b[0m\u001b[0;34m,\u001b[0m \u001b[0mY\u001b[0m\u001b[0;34m,\u001b[0m \u001b[0;34m\"o\"\u001b[0m\u001b[0;34m)\u001b[0m\u001b[0;34m\u001b[0m\u001b[0m\n\u001b[1;32m      4\u001b[0m \u001b[0;31m# line of best fit\u001b[0m\u001b[0;34m\u001b[0m\u001b[0;34m\u001b[0m\u001b[0m\n\u001b[1;32m      5\u001b[0m \u001b[0;31m# solve for a and b\u001b[0m\u001b[0;34m\u001b[0m\u001b[0;34m\u001b[0m\u001b[0m\n",
      "\u001b[0;31mNameError\u001b[0m: name 'weight_average' is not defined"
     ]
    },
    {
     "data": {
      "application/javascript": [
       "\n",
       "            setTimeout(function() {\n",
       "                var nbb_cell_id = 11;\n",
       "                var nbb_unformatted_code = \"X = weight_average[\\\"num_work_samples\\\"]\\nY = weight_average[\\\"rating\\\"]\\nplt.plot(X, Y, \\\"o\\\")\\n# line of best fit\\n# solve for a and b\\ndef best_fit(X, Y):\\n\\n    xbar = sum(X) / len(X)\\n    ybar = sum(Y) / len(Y)\\n    n = len(X)  # or len(Y)\\n\\n    numer = sum([xi * yi for xi, yi in zip(X, Y)]) - n * xbar * ybar\\n    denum = sum([xi ** 2 for xi in X]) - n * xbar ** 2\\n\\n    b = numer / denum\\n    a = ybar - b * xbar\\n\\n    print(\\\"best fit line:\\\\ny = {:.2f} + {:.2f}x\\\".format(a, b))\\n\\n    return a, b\\n\\n\\n# solution\\na, b = best_fit(X, Y)\\n\\n# plot points and fit line\\nplt.scatter(X, Y)\\nyfit = [a + b * xi for xi in X]\\nplt.plot(X, yfit)\";\n",
       "                var nbb_formatted_code = \"X = weight_average[\\\"num_work_samples\\\"]\\nY = weight_average[\\\"rating\\\"]\\nplt.plot(X, Y, \\\"o\\\")\\n# line of best fit\\n# solve for a and b\\ndef best_fit(X, Y):\\n\\n    xbar = sum(X) / len(X)\\n    ybar = sum(Y) / len(Y)\\n    n = len(X)  # or len(Y)\\n\\n    numer = sum([xi * yi for xi, yi in zip(X, Y)]) - n * xbar * ybar\\n    denum = sum([xi ** 2 for xi in X]) - n * xbar ** 2\\n\\n    b = numer / denum\\n    a = ybar - b * xbar\\n\\n    print(\\\"best fit line:\\\\ny = {:.2f} + {:.2f}x\\\".format(a, b))\\n\\n    return a, b\\n\\n\\n# solution\\na, b = best_fit(X, Y)\\n\\n# plot points and fit line\\nplt.scatter(X, Y)\\nyfit = [a + b * xi for xi in X]\\nplt.plot(X, yfit)\";\n",
       "                var nbb_cells = Jupyter.notebook.get_cells();\n",
       "                for (var i = 0; i < nbb_cells.length; ++i) {\n",
       "                    if (nbb_cells[i].input_prompt_number == nbb_cell_id) {\n",
       "                        if (nbb_cells[i].get_text() == nbb_unformatted_code) {\n",
       "                             nbb_cells[i].set_text(nbb_formatted_code);\n",
       "                        }\n",
       "                        break;\n",
       "                    }\n",
       "                }\n",
       "            }, 500);\n",
       "            "
      ],
      "text/plain": [
       "<IPython.core.display.Javascript object>"
      ]
     },
     "metadata": {},
     "output_type": "display_data"
    }
   ],
   "source": [
    "X = weight_average[\"num_work_samples\"]\n",
    "Y = weight_average[\"rating\"]\n",
    "plt.plot(X, Y, \"o\")\n",
    "# line of best fit\n",
    "# solve for a and b\n",
    "def best_fit(X, Y):\n",
    "\n",
    "    xbar = sum(X) / len(X)\n",
    "    ybar = sum(Y) / len(Y)\n",
    "    n = len(X)  # or len(Y)\n",
    "\n",
    "    numer = sum([xi * yi for xi, yi in zip(X, Y)]) - n * xbar * ybar\n",
    "    denum = sum([xi ** 2 for xi in X]) - n * xbar ** 2\n",
    "\n",
    "    b = numer / denum\n",
    "    a = ybar - b * xbar\n",
    "\n",
    "    print(\"best fit line:\\ny = {:.2f} + {:.2f}x\".format(a, b))\n",
    "\n",
    "    return a, b\n",
    "\n",
    "\n",
    "# solution\n",
    "a, b = best_fit(X, Y)\n",
    "\n",
    "# plot points and fit line\n",
    "plt.scatter(X, Y)\n",
    "yfit = [a + b * xi for xi in X]\n",
    "plt.plot(X, yfit)"
   ]
  },
  {
   "cell_type": "markdown",
   "id": "9ad39d49",
   "metadata": {},
   "source": [
    "Clearly, the dataset contains many developers with few work samples and high ratings. In order to generate a more robust comparison of developers, let's incorporate a developer's number of work samples to their rating score to yield a weighted average rating."
   ]
  },
  {
   "cell_type": "markdown",
   "id": "a0ddd3ee",
   "metadata": {},
   "source": [
    "# Calculate weighted average"
   ]
  },
  {
   "cell_type": "code",
   "execution_count": null,
   "id": "dffd1f85",
   "metadata": {},
   "outputs": [],
   "source": [
    "# percentage of developers with only one work sample\n",
    "len(df[df[\"num_work_samples\"] < 5]) / len(df)"
   ]
  },
  {
   "cell_type": "code",
   "execution_count": null,
   "id": "fb697297",
   "metadata": {},
   "outputs": [],
   "source": [
    "### movies_cleaned_df[‘weighted_average’]=((R*v)+ (C*m))/(v+m)\n",
    "v = df[\"num_work_samples\"]\n",
    "R = df[\"rating\"]\n",
    "C = mean(df[\"rating\"])\n",
    "m = df[\"num_work_samples\"].quantile(\n",
    "    0.25\n",
    ")  # must have more votes than at least 25% of developers in the dataset"
   ]
  },
  {
   "cell_type": "code",
   "execution_count": null,
   "id": "f27388df",
   "metadata": {},
   "outputs": [],
   "source": [
    "m  # developers with less than 5 work samples being excluded"
   ]
  },
  {
   "cell_type": "code",
   "execution_count": null,
   "id": "28a48f96",
   "metadata": {},
   "outputs": [],
   "source": [
    "df[\"weighted_average\"] = ((R * v) + (C * m)) / (v + m)"
   ]
  },
  {
   "cell_type": "code",
   "execution_count": null,
   "id": "9402e57f",
   "metadata": {
    "scrolled": true
   },
   "outputs": [],
   "source": [
    "weight_average = df.sort_values(by=\"weighted_average\", ascending=False).dropna()"
   ]
  },
  {
   "cell_type": "code",
   "execution_count": null,
   "id": "56d49d4f",
   "metadata": {},
   "outputs": [],
   "source": [
    "plt.figure(figsize=(16, 10), dpi=80)\n",
    "sns.kdeplot(\n",
    "    weight_average[\"weighted_average\"],\n",
    "    shade=True,\n",
    "    color=\"purple\",\n",
    "    legend=False,\n",
    "    alpha=0.8,\n",
    ")\n",
    "sns.kdeplot(\n",
    "    df[\"rating\"],\n",
    "    shade=True,\n",
    "    color=\"black\",\n",
    "    legend=False,\n",
    ")\n",
    "\n",
    "# Decoration\n",
    "plt.title(\"Density Plot (Distribution) of Developer Weighted Average\", fontsize=18)\n",
    "plt.show()"
   ]
  },
  {
   "cell_type": "markdown",
   "id": "c512ecd7",
   "metadata": {},
   "source": [
    "We can see that by accounting for num_work_samples, the new (purple) distribution has been moved slightly left, i.e. is slightly more centered."
   ]
  },
  {
   "cell_type": "markdown",
   "id": "d3b7a534",
   "metadata": {},
   "source": [
    "### Recommendation based on scaled weighted average and num_work_samples (proxy for popularity) score (priority-50% for both):"
   ]
  },
  {
   "cell_type": "code",
   "execution_count": null,
   "id": "3f4d4876",
   "metadata": {},
   "outputs": [],
   "source": [
    "# Create an object and pass the two attributes ‘weighted_average’ and ‘num_work_samples’ that need to be normalised.\n",
    "# Convert to a dataframe and display the scaled-down data.\n",
    "scaling=MinMaxScaler()\n",
    "weight_average_scaled=scaling.fit_transform(weight_average[['weighted_average', 'num_work_samples']])\n",
    "normalized_df=pd.DataFrame(weight_average_scaled,columns=['weighted_average', 'num_work_samples'])\n"
   ]
  },
  {
   "cell_type": "code",
   "execution_count": null,
   "id": "f1b49442",
   "metadata": {},
   "outputs": [],
   "source": [
    "normalized_df[\"name\"] = weight_average[\"name\"]  # assign names to normalized_df"
   ]
  },
  {
   "cell_type": "markdown",
   "id": "c75f8b76",
   "metadata": {},
   "source": [
    "### Based just on weighted average and popularity (i.e. number of projects done), a simple recommender would return recommendations in the following order..."
   ]
  },
  {
   "cell_type": "code",
   "execution_count": null,
   "id": "76a420bd",
   "metadata": {},
   "outputs": [],
   "source": [
    "normalized_df"
   ]
  },
  {
   "cell_type": "markdown",
   "id": "a84e9ceb",
   "metadata": {},
   "source": [
    "# Sources\n",
    "https://medium.com/@developeraritro/building-a-recommendation-system-using-weighted-hybrid-technique-75598b6be8ed"
   ]
  }
 ],
 "metadata": {
  "kernelspec": {
   "display_name": "Clustering",
   "language": "python",
   "name": "clustering"
  },
  "language_info": {
   "codemirror_mode": {
    "name": "ipython",
    "version": 3
   },
   "file_extension": ".py",
   "mimetype": "text/x-python",
   "name": "python",
   "nbconvert_exporter": "python",
   "pygments_lexer": "ipython3",
   "version": "3.6.3"
  }
 },
 "nbformat": 4,
 "nbformat_minor": 5
}
